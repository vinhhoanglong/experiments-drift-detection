{
 "cells": [
  {
   "cell_type": "code",
   "execution_count": 1,
   "id": "e56e0322-5f03-47e2-beeb-27fd99711948",
   "metadata": {},
   "outputs": [
    {
     "name": "stdout",
     "output_type": "stream",
     "text": [
      "/home/vinh/project/experiments-drift-detection/src/methods/prefixCDD\n"
     ]
    }
   ],
   "source": [
    "!pwd"
   ]
  },
  {
   "cell_type": "code",
   "execution_count": 2,
   "id": "cd181b98-804d-4c10-abe7-3f5d7cc0b68e",
   "metadata": {},
   "outputs": [
    {
     "name": "stdout",
     "output_type": "stream",
     "text": [
      "/home/vinh/project/experiments-drift-detection\n"
     ]
    }
   ],
   "source": [
    "import os\n",
    "os.chdir(\"../../../\")\n",
    "!pwd"
   ]
  },
  {
   "cell_type": "code",
   "execution_count": 3,
   "id": "d4f80c21-fa19-4b35-8592-47a54c3fdfd0",
   "metadata": {},
   "outputs": [],
   "source": [
    "from src.methods.prefixCDD.prefixcdd import _group_event_by_key, extract_caseid_act, PrefixCDD\n",
    "import pm4py"
   ]
  },
  {
   "cell_type": "code",
   "execution_count": 4,
   "id": "5f0cb05c-e809-47bf-b3b2-4fb6b824cd49",
   "metadata": {},
   "outputs": [
    {
     "name": "stdout",
     "output_type": "stream",
     "text": [
      "/home/vinh/project/experiments-drift-detection\n"
     ]
    }
   ],
   "source": [
    "!pwd"
   ]
  },
  {
   "cell_type": "code",
   "execution_count": 5,
   "id": "531523c6-b03e-4f20-949a-3f4661e0d34d",
   "metadata": {},
   "outputs": [],
   "source": [
    "list_data = ['sudden_trace_noise0_1000_cd.xes', 'sudden_trace_noise0_1000_cb.xes', 'sudden_trace_noise0_1000_cf.xes',  'sudden_trace_noise0_1000_re.xes',\n",
    "'sudden_trace_noise0_1000_cp.xes', 'sudden_trace_noise0_1000_rp.xes','sudden_trace_noise0_1000_lp.xes', 'sudden_trace_noise0_1000_sw.xes', 'sudden_trace_noise0_1000_pl.xes',\n",
    "'sudden_trace_noise0_1000_pm.xes']"
   ]
  },
  {
   "cell_type": "code",
   "execution_count": 6,
   "id": "3262cc14-30ca-4f38-8149-ae33e075671c",
   "metadata": {},
   "outputs": [
    {
     "name": "stderr",
     "output_type": "stream",
     "text": [
      "/home/vinh/anaconda3/envs/myenv/lib/python3.9/site-packages/tqdm/auto.py:21: TqdmWarning: IProgress not found. Please update jupyter and ipywidgets. See https://ipywidgets.readthedocs.io/en/stable/user_install.html\n",
      "  from .autonotebook import tqdm as notebook_tqdm\n",
      "parsing log, completed traces :: 100%|█|\n"
     ]
    }
   ],
   "source": [
    "data_pth = 'data/'\n",
    "log = pm4py.read_xes(data_pth + 'sudden_trace_noise0_1000_cp.xes')"
   ]
  },
  {
   "cell_type": "code",
   "execution_count": 7,
   "id": "ab1f5b89-53c0-42b3-910a-7c9696ed3127",
   "metadata": {},
   "outputs": [
    {
     "name": "stderr",
     "output_type": "stream",
     "text": [
      "process stream: 100%|█| 11331/11331 [00:"
     ]
    },
    {
     "name": "stdout",
     "output_type": "stream",
     "text": [
      "[Drift] Tree 501, Event 4950, Case 501, Activity 'F', δ=2.8284\n",
      "[Drift] Tree 864, Event 9750, Case 864, Activity 'B', δ=1.7321\n"
     ]
    },
    {
     "name": "stderr",
     "output_type": "stream",
     "text": [
      "\n"
     ]
    },
    {
     "data": {
      "text/plain": [
       "['501', '864']"
      ]
     },
     "execution_count": 7,
     "metadata": {},
     "output_type": "execute_result"
    }
   ],
   "source": [
    "cid_act_pair = extract_caseid_act(log)\n",
    "evnts = _group_event_by_key(cid_act_pair)\n",
    "event_stream = [(case_id, act) for case_id, acts in evnts.items() for act in acts]\n",
    "cdd = PrefixCDD(nums_tree = 12, events_per_tree=150)\n",
    "cdd.process_stream(event_stream)"
   ]
  },
  {
   "cell_type": "code",
   "execution_count": 8,
   "id": "285e7dfc-632a-4dec-8f91-7e632ff7707d",
   "metadata": {},
   "outputs": [],
   "source": [
    "from src.evaluation import calcPrecisionRecall, calF1Score"
   ]
  },
  {
   "cell_type": "code",
   "execution_count": 16,
   "id": "2d065986-8d6d-4022-ae68-36539a30bf4e",
   "metadata": {},
   "outputs": [],
   "source": [
    "result = []"
   ]
  },
  {
   "cell_type": "code",
   "execution_count": 17,
   "id": "9cfacfa3-9568-4ed2-b3d2-9b43832ba95d",
   "metadata": {},
   "outputs": [],
   "source": [
    "import numpy as np"
   ]
  },
  {
   "cell_type": "code",
   "execution_count": 18,
   "id": "9ab726f6-3173-4000-bb51-275e35f755dd",
   "metadata": {
    "scrolled": true
   },
   "outputs": [
    {
     "name": "stderr",
     "output_type": "stream",
     "text": [
      "parsing log, completed traces :: 100%|█|\n"
     ]
    },
    {
     "name": "stdout",
     "output_type": "stream",
     "text": [
      "Process sudden_trace_noise0_1000_cd.xes\n",
      "Processing with params 50\n"
     ]
    },
    {
     "name": "stderr",
     "output_type": "stream",
     "text": [
      "process stream: 100%|█| 10788/10788 [00:\n"
     ]
    },
    {
     "name": "stdout",
     "output_type": "stream",
     "text": [
      "[Drift] Tree 235, Event 1650, Case 235, Activity 'M', δ=3.1623\n",
      "[Drift] Tree 501, Event 4850, Case 501, Activity 'B', δ=4.0000\n",
      "[Drift] Tree 632, Event 6450, Case 632, Activity 'N', δ=2.6458\n",
      "[Drift] Tree 768, Event 8050, Case 768, Activity 'A', δ=3.1623\n",
      "With log sudden_trace_noise0_1000_cd.xes, Drifpoints = ['235', '501', '632', '768'], Precision = 0.25,  Recall = 1.0, F1 = 0.4, event per tree = 50\n",
      "Processing with params 70\n"
     ]
    },
    {
     "name": "stderr",
     "output_type": "stream",
     "text": [
      "process stream:   0%| | 0/10788 [00:00<?"
     ]
    },
    {
     "name": "stdout",
     "output_type": "stream",
     "text": [
      "[Drift] Tree 287, Event 2310, Case 287, Activity 'E', δ=3.3166\n",
      "[Drift] Tree 477, Event 4550, Case 477, Activity 'A', δ=1.4142\n"
     ]
    },
    {
     "name": "stderr",
     "output_type": "stream",
     "text": [
      "process stream: 100%|█| 10788/10788 [00:\n"
     ]
    },
    {
     "name": "stdout",
     "output_type": "stream",
     "text": [
      "[Drift] Tree 660, Event 6790, Case 660, Activity 'O', δ=3.0000\n",
      "[Drift] Tree 852, Event 9030, Case 852, Activity 'A', δ=1.7321\n",
      "With log sudden_trace_noise0_1000_cd.xes, Drifpoints = ['287', '477', '660', '852'], Precision = 0.25,  Recall = 1.0, F1 = 0.4, event per tree = 70\n",
      "Processing with params 100\n"
     ]
    },
    {
     "name": "stderr",
     "output_type": "stream",
     "text": [
      "process stream:   0%| | 0/10788 [00:00<?"
     ]
    },
    {
     "name": "stdout",
     "output_type": "stream",
     "text": [
      "[Drift] Tree 37, Event 3300, Case 37, Activity 'B', δ=2.6458\n",
      "[Drift] Tree 637, Event 6500, Case 637, Activity 'A', δ=4.3589\n"
     ]
    },
    {
     "name": "stderr",
     "output_type": "stream",
     "text": [
      "process stream: 100%|█| 10788/10788 [00:\n"
     ]
    },
    {
     "name": "stdout",
     "output_type": "stream",
     "text": [
      "With log sudden_trace_noise0_1000_cd.xes, Drifpoints = ['37', '637'], Precision = 0.5,  Recall = 1.0, F1 = 0.6666666666666666, event per tree = 100\n",
      "Processing with params 120\n"
     ]
    },
    {
     "name": "stderr",
     "output_type": "stream",
     "text": [
      "process stream: 100%|█| 10788/10788 [00:"
     ]
    },
    {
     "name": "stdout",
     "output_type": "stream",
     "text": [
      "[Drift] Tree 430, Event 3960, Case 430, Activity 'I', δ=2.6458\n",
      "[Drift] Tree 746, Event 7800, Case 746, Activity 'G', δ=2.4495\n"
     ]
    },
    {
     "name": "stderr",
     "output_type": "stream",
     "text": [
      "\n"
     ]
    },
    {
     "name": "stdout",
     "output_type": "stream",
     "text": [
      "With log sudden_trace_noise0_1000_cd.xes, Drifpoints = ['430', '746'], Precision = 0.5,  Recall = 1.0, F1 = 0.6666666666666666, event per tree = 120\n",
      "Processing with params 150\n"
     ]
    },
    {
     "name": "stderr",
     "output_type": "stream",
     "text": [
      "process stream: 100%|█| 10788/10788 [00:"
     ]
    },
    {
     "name": "stdout",
     "output_type": "stream",
     "text": [
      "[Drift] Tree 51, Event 4950, Case 51, Activity 'A', δ=5.6569\n",
      "[Drift] Tree 910, Event 9750, Case 910, Activity 'J', δ=6.3246\n"
     ]
    },
    {
     "name": "stderr",
     "output_type": "stream",
     "text": [
      "\n"
     ]
    },
    {
     "name": "stdout",
     "output_type": "stream",
     "text": [
      "With log sudden_trace_noise0_1000_cd.xes, Drifpoints = ['51', '910'], Precision = 0.0,  Recall = 0.0, F1 = nan, event per tree = 150\n",
      "Processing with params 170\n"
     ]
    },
    {
     "name": "stderr",
     "output_type": "stream",
     "text": [
      "process stream: 100%|█| 10788/10788 [00:"
     ]
    },
    {
     "name": "stdout",
     "output_type": "stream",
     "text": [
      "[Drift] Tree 568, Event 5610, Case 568, Activity 'K', δ=3.8730\n"
     ]
    },
    {
     "name": "stderr",
     "output_type": "stream",
     "text": [
      "\n"
     ]
    },
    {
     "name": "stdout",
     "output_type": "stream",
     "text": [
      "With log sudden_trace_noise0_1000_cd.xes, Drifpoints = ['568'], Precision = 1.0,  Recall = 1.0, F1 = 1.0, event per tree = 170\n",
      "Processing with params 200\n"
     ]
    },
    {
     "name": "stderr",
     "output_type": "stream",
     "text": [
      "process stream:   0%| | 0/10788 [00:00<?"
     ]
    },
    {
     "name": "stdout",
     "output_type": "stream",
     "text": [
      "[Drift] Tree 644, Event 6600, Case 644, Activity 'L', δ=2.0000\n"
     ]
    },
    {
     "name": "stderr",
     "output_type": "stream",
     "text": [
      "process stream: 100%|█| 10788/10788 [00:\n"
     ]
    },
    {
     "name": "stdout",
     "output_type": "stream",
     "text": [
      "With log sudden_trace_noise0_1000_cd.xes, Drifpoints = ['644'], Precision = 1.0,  Recall = 1.0, F1 = 1.0, event per tree = 200\n"
     ]
    },
    {
     "name": "stderr",
     "output_type": "stream",
     "text": [
      "parsing log, completed traces :: 100%|█|\n"
     ]
    },
    {
     "name": "stdout",
     "output_type": "stream",
     "text": [
      "Process sudden_trace_noise0_1000_cb.xes\n",
      "Processing with params 50\n"
     ]
    },
    {
     "name": "stderr",
     "output_type": "stream",
     "text": [
      "process stream: 100%|█| 10530/10530 [00:\n"
     ]
    },
    {
     "name": "stdout",
     "output_type": "stream",
     "text": [
      "[Drift] Tree 375, Event 3250, Case 375, Activity 'A', δ=2.8284\n",
      "[Drift] Tree 50, Event 4850, Case 50, Activity 'A', δ=3.8730\n",
      "[Drift] Tree 641, Event 6450, Case 641, Activity 'B', δ=3.3166\n",
      "[Drift] Tree 782, Event 8050, Case 782, Activity 'I', δ=2.2361\n",
      "[Drift] Tree 919, Event 9650, Case 919, Activity 'B', δ=1.7321\n",
      "With log sudden_trace_noise0_1000_cb.xes, Drifpoints = ['375', '50', '641', '782', '919'], Precision = 0.2,  Recall = 1.0, F1 = 0.33333333333333337, event per tree = 50\n",
      "Processing with params 70\n"
     ]
    },
    {
     "name": "stderr",
     "output_type": "stream",
     "text": [
      "process stream:   0%| | 0/10530 [00:00<?"
     ]
    },
    {
     "name": "stdout",
     "output_type": "stream",
     "text": [
      "[Drift] Tree 295, Event 2310, Case 295, Activity 'O', δ=4.6904\n"
     ]
    },
    {
     "name": "stderr",
     "output_type": "stream",
     "text": [
      "process stream: 100%|█| 10530/10530 [00:\n"
     ]
    },
    {
     "name": "stdout",
     "output_type": "stream",
     "text": [
      "[Drift] Tree 87, Event 9030, Case 87, Activity 'C', δ=2.2361\n",
      "With log sudden_trace_noise0_1000_cb.xes, Drifpoints = ['295', '87'], Precision = 0.0,  Recall = 0.0, F1 = nan, event per tree = 70\n",
      "Processing with params 100\n"
     ]
    },
    {
     "name": "stderr",
     "output_type": "stream",
     "text": [
      "process stream:   0%| | 0/10530 [00:00<?"
     ]
    },
    {
     "name": "stdout",
     "output_type": "stream",
     "text": [
      "[Drift] Tree 378, Event 3300, Case 378, Activity 'H', δ=3.0000\n",
      "[Drift] Tree 646, Event 6500, Case 646, Activity 'G', δ=3.4641\n",
      "[Drift] Tree 923, Event 9700, Case 923, Activity 'H', δ=2.0000\n"
     ]
    },
    {
     "name": "stderr",
     "output_type": "stream",
     "text": [
      "process stream: 100%|█| 10530/10530 [00:\n"
     ]
    },
    {
     "name": "stdout",
     "output_type": "stream",
     "text": [
      "With log sudden_trace_noise0_1000_cb.xes, Drifpoints = ['378', '646', '923'], Precision = 0.3333333333333333,  Recall = 1.0, F1 = 0.5, event per tree = 100\n",
      "Processing with params 120\n"
     ]
    },
    {
     "name": "stderr",
     "output_type": "stream",
     "text": [
      "process stream: 100%|█| 10530/10530 [00:"
     ]
    },
    {
     "name": "stdout",
     "output_type": "stream",
     "text": [
      "[Drift] Tree 76, Event 7800, Case 76, Activity 'B', δ=4.0000\n"
     ]
    },
    {
     "name": "stderr",
     "output_type": "stream",
     "text": [
      "\n"
     ]
    },
    {
     "name": "stdout",
     "output_type": "stream",
     "text": [
      "With log sudden_trace_noise0_1000_cb.xes, Drifpoints = ['76'], Precision = 0.0,  Recall = 0.0, F1 = nan, event per tree = 120\n",
      "Processing with params 150\n"
     ]
    },
    {
     "name": "stderr",
     "output_type": "stream",
     "text": [
      "process stream: 100%|█| 10530/10530 [00:"
     ]
    },
    {
     "name": "stdout",
     "output_type": "stream",
     "text": [
      "[Drift] Tree 929, Event 9750, Case 929, Activity 'E', δ=2.8284\n"
     ]
    },
    {
     "name": "stderr",
     "output_type": "stream",
     "text": [
      "\n"
     ]
    },
    {
     "name": "stdout",
     "output_type": "stream",
     "text": [
      "With log sudden_trace_noise0_1000_cb.xes, Drifpoints = ['929'], Precision = 0.0,  Recall = 0.0, F1 = nan, event per tree = 150\n",
      "Processing with params 170\n"
     ]
    },
    {
     "name": "stderr",
     "output_type": "stream",
     "text": [
      "process stream:   0%| | 0/10530 [00:00<?"
     ]
    },
    {
     "name": "stdout",
     "output_type": "stream",
     "text": [
      "[Drift] Tree 568, Event 5610, Case 568, Activity 'B', δ=6.5574\n"
     ]
    },
    {
     "name": "stderr",
     "output_type": "stream",
     "text": [
      "process stream: 100%|█| 10530/10530 [00:\n"
     ]
    },
    {
     "name": "stdout",
     "output_type": "stream",
     "text": [
      "With log sudden_trace_noise0_1000_cb.xes, Drifpoints = ['568'], Precision = 1.0,  Recall = 1.0, F1 = 1.0, event per tree = 170\n",
      "Processing with params 200\n"
     ]
    },
    {
     "name": "stderr",
     "output_type": "stream",
     "text": [
      "process stream: 100%|█| 10530/10530 [00:"
     ]
    },
    {
     "name": "stdout",
     "output_type": "stream",
     "text": [
      "[Drift] Tree 654, Event 6600, Case 654, Activity 'K', δ=5.1962\n"
     ]
    },
    {
     "name": "stderr",
     "output_type": "stream",
     "text": [
      "\n"
     ]
    },
    {
     "name": "stdout",
     "output_type": "stream",
     "text": [
      "With log sudden_trace_noise0_1000_cb.xes, Drifpoints = ['654'], Precision = 1.0,  Recall = 1.0, F1 = 1.0, event per tree = 200\n"
     ]
    },
    {
     "name": "stderr",
     "output_type": "stream",
     "text": [
      "parsing log, completed traces :: 100%|█|\n"
     ]
    },
    {
     "name": "stdout",
     "output_type": "stream",
     "text": [
      "Process sudden_trace_noise0_1000_cf.xes\n",
      "Processing with params 50\n"
     ]
    },
    {
     "name": "stderr",
     "output_type": "stream",
     "text": [
      "process stream: 100%|█| 11180/11180 [00:\n"
     ]
    },
    {
     "name": "stdout",
     "output_type": "stream",
     "text": [
      "[Drift] Tree 227, Event 1650, Case 227, Activity 'M', δ=2.6458\n",
      "[Drift] Tree 358, Event 3250, Case 358, Activity 'F', δ=2.8284\n",
      "[Drift] Tree 489, Event 4850, Case 489, Activity 'O', δ=3.7417\n",
      "[Drift] Tree 624, Event 6450, Case 624, Activity 'O', δ=2.4495\n",
      "[Drift] Tree 752, Event 8050, Case 752, Activity 'E', δ=2.6458\n",
      "[Drift] Tree 874, Event 9650, Case 874, Activity 'J', δ=3.3166\n",
      "With log sudden_trace_noise0_1000_cf.xes, Drifpoints = ['227', '358', '489', '624', '752', '874'], Precision = 0.16666666666666666,  Recall = 1.0, F1 = 0.2857142857142857, event per tree = 50\n",
      "Processing with params 70\n"
     ]
    },
    {
     "name": "stderr",
     "output_type": "stream",
     "text": [
      "process stream:   0%| | 0/11180 [00:00<?"
     ]
    },
    {
     "name": "stdout",
     "output_type": "stream",
     "text": [
      "[Drift] Tree 283, Event 2310, Case 283, Activity 'B', δ=2.6458\n",
      "[Drift] Tree 652, Event 6790, Case 652, Activity 'C', δ=3.8730\n"
     ]
    },
    {
     "name": "stderr",
     "output_type": "stream",
     "text": [
      "process stream: 100%|█| 11180/11180 [00:\n"
     ]
    },
    {
     "name": "stdout",
     "output_type": "stream",
     "text": [
      "With log sudden_trace_noise0_1000_cf.xes, Drifpoints = ['283', '652'], Precision = 0.5,  Recall = 1.0, F1 = 0.6666666666666666, event per tree = 70\n",
      "Processing with params 100\n"
     ]
    },
    {
     "name": "stderr",
     "output_type": "stream",
     "text": [
      "process stream:   0%| | 0/11180 [00:00<?"
     ]
    },
    {
     "name": "stdout",
     "output_type": "stream",
     "text": [
      "[Drift] Tree 362, Event 3300, Case 362, Activity 'B', δ=2.0000\n",
      "[Drift] Tree 629, Event 6500, Case 629, Activity 'D', δ=2.0000\n",
      "[Drift] Tree 878, Event 9700, Case 878, Activity 'I', δ=6.6332\n"
     ]
    },
    {
     "name": "stderr",
     "output_type": "stream",
     "text": [
      "process stream: 100%|█| 11180/11180 [00:\n"
     ]
    },
    {
     "name": "stdout",
     "output_type": "stream",
     "text": [
      "With log sudden_trace_noise0_1000_cf.xes, Drifpoints = ['362', '629', '878'], Precision = 0.3333333333333333,  Recall = 1.0, F1 = 0.5, event per tree = 100\n",
      "Processing with params 120\n"
     ]
    },
    {
     "name": "stderr",
     "output_type": "stream",
     "text": [
      "process stream: 100%|█| 11180/11180 [00:"
     ]
    },
    {
     "name": "stdout",
     "output_type": "stream",
     "text": [
      "[Drift] Tree 416, Event 3960, Case 416, Activity 'D', δ=3.6056\n",
      "[Drift] Tree 734, Event 7800, Case 734, Activity 'G', δ=1.4142\n"
     ]
    },
    {
     "name": "stderr",
     "output_type": "stream",
     "text": [
      "\n"
     ]
    },
    {
     "name": "stdout",
     "output_type": "stream",
     "text": [
      "With log sudden_trace_noise0_1000_cf.xes, Drifpoints = ['416', '734'], Precision = 0.5,  Recall = 1.0, F1 = 0.6666666666666666, event per tree = 120\n",
      "Processing with params 150\n"
     ]
    },
    {
     "name": "stderr",
     "output_type": "stream",
     "text": [
      "process stream: 100%|█| 11180/11180 [00:"
     ]
    },
    {
     "name": "stdout",
     "output_type": "stream",
     "text": [
      "[Drift] Tree 498, Event 4950, Case 498, Activity 'F', δ=5.9161\n",
      "[Drift] Tree 882, Event 9750, Case 882, Activity 'A', δ=5.6569\n"
     ]
    },
    {
     "name": "stderr",
     "output_type": "stream",
     "text": [
      "\n"
     ]
    },
    {
     "name": "stdout",
     "output_type": "stream",
     "text": [
      "With log sudden_trace_noise0_1000_cf.xes, Drifpoints = ['498', '882'], Precision = 0.5,  Recall = 1.0, F1 = 0.6666666666666666, event per tree = 150\n",
      "Processing with params 170\n"
     ]
    },
    {
     "name": "stderr",
     "output_type": "stream",
     "text": [
      "process stream: 100%|█| 11180/11180 [00:"
     ]
    },
    {
     "name": "stdout",
     "output_type": "stream",
     "text": [
      "[Drift] Tree 554, Event 5610, Case 554, Activity 'J', δ=4.3589\n",
      "[Drift] Tree 988, Event 11050, Case 988, Activity 'G', δ=2.0000\n"
     ]
    },
    {
     "name": "stderr",
     "output_type": "stream",
     "text": [
      "\n"
     ]
    },
    {
     "name": "stdout",
     "output_type": "stream",
     "text": [
      "With log sudden_trace_noise0_1000_cf.xes, Drifpoints = ['554', '988'], Precision = 0.5,  Recall = 1.0, F1 = 0.6666666666666666, event per tree = 170\n",
      "Processing with params 200\n"
     ]
    },
    {
     "name": "stderr",
     "output_type": "stream",
     "text": [
      "process stream: 100%|█| 11180/11180 [00:"
     ]
    },
    {
     "name": "stdout",
     "output_type": "stream",
     "text": [
      "[Drift] Tree 636, Event 6600, Case 636, Activity 'G', δ=5.3852\n"
     ]
    },
    {
     "name": "stderr",
     "output_type": "stream",
     "text": [
      "\n"
     ]
    },
    {
     "name": "stdout",
     "output_type": "stream",
     "text": [
      "With log sudden_trace_noise0_1000_cf.xes, Drifpoints = ['636'], Precision = 1.0,  Recall = 1.0, F1 = 1.0, event per tree = 200\n"
     ]
    },
    {
     "name": "stderr",
     "output_type": "stream",
     "text": [
      "parsing log, completed traces :: 100%|█|\n"
     ]
    },
    {
     "name": "stdout",
     "output_type": "stream",
     "text": [
      "Process sudden_trace_noise0_1000_re.xes\n",
      "Processing with params 50\n"
     ]
    },
    {
     "name": "stderr",
     "output_type": "stream",
     "text": [
      "process stream: 100%|█| 10509/10509 [00:\n"
     ]
    },
    {
     "name": "stdout",
     "output_type": "stream",
     "text": [
      "[Drift] Tree 243, Event 1650, Case 243, Activity 'G', δ=2.2361\n",
      "[Drift] Tree 371, Event 3250, Case 371, Activity 'E', δ=1.7321\n",
      "[Drift] Tree 501, Event 4850, Case 501, Activity 'A', δ=2.6458\n",
      "[Drift] Tree 642, Event 6450, Case 642, Activity 'M', δ=6.1644\n",
      "[Drift] Tree 777, Event 8050, Case 777, Activity 'A', δ=4.3589\n",
      "With log sudden_trace_noise0_1000_re.xes, Drifpoints = ['243', '371', '501', '642', '777'], Precision = 0.2,  Recall = 1.0, F1 = 0.33333333333333337, event per tree = 50\n",
      "Processing with params 70\n"
     ]
    },
    {
     "name": "stderr",
     "output_type": "stream",
     "text": [
      "process stream:   0%| | 0/10509 [00:00<?"
     ]
    },
    {
     "name": "stdout",
     "output_type": "stream",
     "text": [
      "[Drift] Tree 294, Event 2310, Case 294, Activity 'O', δ=1.7321\n",
      "[Drift] Tree 478, Event 4550, Case 478, Activity 'D', δ=2.0000\n",
      "[Drift] Tree 67, Event 6790, Case 67, Activity 'A', δ=2.6458\n"
     ]
    },
    {
     "name": "stderr",
     "output_type": "stream",
     "text": [
      "process stream: 100%|█| 10509/10509 [00:"
     ]
    },
    {
     "name": "stdout",
     "output_type": "stream",
     "text": [
      "[Drift] Tree 866, Event 9030, Case 866, Activity 'A', δ=2.0000\n"
     ]
    },
    {
     "name": "stderr",
     "output_type": "stream",
     "text": [
      "\n"
     ]
    },
    {
     "name": "stdout",
     "output_type": "stream",
     "text": [
      "With log sudden_trace_noise0_1000_re.xes, Drifpoints = ['294', '478', '67', '866'], Precision = 0.25,  Recall = 1.0, F1 = 0.4, event per tree = 70\n",
      "Processing with params 100\n"
     ]
    },
    {
     "name": "stderr",
     "output_type": "stream",
     "text": [
      "process stream: 100%|█| 10509/10509 [00:"
     ]
    },
    {
     "name": "stdout",
     "output_type": "stream",
     "text": [
      "[Drift] Tree 376, Event 3300, Case 376, Activity 'B', δ=2.2361\n",
      "[Drift] Tree 928, Event 9700, Case 928, Activity 'D', δ=3.7417\n"
     ]
    },
    {
     "name": "stderr",
     "output_type": "stream",
     "text": [
      "\n"
     ]
    },
    {
     "name": "stdout",
     "output_type": "stream",
     "text": [
      "With log sudden_trace_noise0_1000_re.xes, Drifpoints = ['376', '928'], Precision = 0.5,  Recall = 1.0, F1 = 0.6666666666666666, event per tree = 100\n",
      "Processing with params 120\n"
     ]
    },
    {
     "name": "stderr",
     "output_type": "stream",
     "text": [
      "process stream: 100%|█| 10509/10509 [00:"
     ]
    },
    {
     "name": "stdout",
     "output_type": "stream",
     "text": [
      "[Drift] Tree 430, Event 3960, Case 430, Activity 'A', δ=2.0000\n",
      "[Drift] Tree 759, Event 7800, Case 759, Activity 'B', δ=4.8990\n"
     ]
    },
    {
     "name": "stderr",
     "output_type": "stream",
     "text": [
      "\n"
     ]
    },
    {
     "name": "stdout",
     "output_type": "stream",
     "text": [
      "With log sudden_trace_noise0_1000_re.xes, Drifpoints = ['430', '759'], Precision = 0.5,  Recall = 1.0, F1 = 0.6666666666666666, event per tree = 120\n",
      "Processing with params 150\n"
     ]
    },
    {
     "name": "stderr",
     "output_type": "stream",
     "text": [
      "process stream: 100%|█| 10509/10509 [00:"
     ]
    },
    {
     "name": "stdout",
     "output_type": "stream",
     "text": [
      "[Drift] Tree 510, Event 4950, Case 510, Activity 'D', δ=2.4495\n",
      "[Drift] Tree 931, Event 9750, Case 931, Activity 'O', δ=4.3589\n"
     ]
    },
    {
     "name": "stderr",
     "output_type": "stream",
     "text": [
      "\n"
     ]
    },
    {
     "name": "stdout",
     "output_type": "stream",
     "text": [
      "With log sudden_trace_noise0_1000_re.xes, Drifpoints = ['510', '931'], Precision = 0.5,  Recall = 1.0, F1 = 0.6666666666666666, event per tree = 150\n",
      "Processing with params 170\n"
     ]
    },
    {
     "name": "stderr",
     "output_type": "stream",
     "text": [
      "process stream: 100%|█| 10509/10509 [00:\n"
     ]
    },
    {
     "name": "stdout",
     "output_type": "stream",
     "text": [
      "With log sudden_trace_noise0_1000_re.xes, Drifpoints = [], Precision = nan,  Recall = 0.0, F1 = nan, event per tree = 170\n",
      "Processing with params 200\n"
     ]
    },
    {
     "name": "stderr",
     "output_type": "stream",
     "text": [
      "process stream: 100%|█| 10509/10509 [00:\n"
     ]
    },
    {
     "name": "stdout",
     "output_type": "stream",
     "text": [
      "With log sudden_trace_noise0_1000_re.xes, Drifpoints = [], Precision = nan,  Recall = 0.0, F1 = nan, event per tree = 200\n"
     ]
    },
    {
     "name": "stderr",
     "output_type": "stream",
     "text": [
      "parsing log, completed traces :: 100%|█|\n"
     ]
    },
    {
     "name": "stdout",
     "output_type": "stream",
     "text": [
      "Process sudden_trace_noise0_1000_cp.xes\n",
      "Processing with params 50\n"
     ]
    },
    {
     "name": "stderr",
     "output_type": "stream",
     "text": [
      "process stream: 100%|█| 11331/11331 [00:\n"
     ]
    },
    {
     "name": "stdout",
     "output_type": "stream",
     "text": [
      "[Drift] Tree 234, Event 1650, Case 234, Activity 'A', δ=2.0000\n",
      "[Drift] Tree 366, Event 3250, Case 366, Activity 'A', δ=0.0000\n",
      "[Drift] Tree 495, Event 4850, Case 495, Activity 'L', δ=2.0000\n",
      "[Drift] Tree 610, Event 6450, Case 610, Activity 'H', δ=3.8730\n",
      "[Drift] Tree 735, Event 8050, Case 735, Activity 'E', δ=3.3166\n",
      "[Drift] Tree 856, Event 9650, Case 856, Activity 'J', δ=2.0000\n",
      "[Drift] Tree 991, Event 11250, Case 991, Activity 'H', δ=4.3589\n",
      "With log sudden_trace_noise0_1000_cp.xes, Drifpoints = ['234', '366', '495', '610', '735', '856', '991'], Precision = 0.14285714285714285,  Recall = 1.0, F1 = 0.25, event per tree = 50\n",
      "Processing with params 70\n"
     ]
    },
    {
     "name": "stderr",
     "output_type": "stream",
     "text": [
      "process stream:   0%| | 0/11331 [00:00<?"
     ]
    },
    {
     "name": "stdout",
     "output_type": "stream",
     "text": [
      "[Drift] Tree 289, Event 2310, Case 289, Activity 'B', δ=2.0000\n",
      "[Drift] Tree 469, Event 4550, Case 469, Activity 'D', δ=4.6904\n"
     ]
    },
    {
     "name": "stderr",
     "output_type": "stream",
     "text": [
      "process stream: 100%|█| 11331/11331 [00:\n"
     ]
    },
    {
     "name": "stdout",
     "output_type": "stream",
     "text": [
      "[Drift] Tree 81, Event 9030, Case 81, Activity 'B', δ=2.0000\n",
      "[Drift] Tree 994, Event 11270, Case 994, Activity 'B', δ=4.4721\n",
      "With log sudden_trace_noise0_1000_cp.xes, Drifpoints = ['289', '469', '81', '994'], Precision = 0.25,  Recall = 1.0, F1 = 0.4, event per tree = 70\n",
      "Processing with params 100\n"
     ]
    },
    {
     "name": "stderr",
     "output_type": "stream",
     "text": [
      "process stream:   0%| | 0/11331 [00:00<?"
     ]
    },
    {
     "name": "stdout",
     "output_type": "stream",
     "text": [
      "[Drift] Tree 370, Event 3300, Case 370, Activity 'E', δ=2.6458\n"
     ]
    },
    {
     "name": "stderr",
     "output_type": "stream",
     "text": [
      "process stream: 100%|█| 11331/11331 [00:"
     ]
    },
    {
     "name": "stdout",
     "output_type": "stream",
     "text": [
      "[Drift] Tree 860, Event 9700, Case 860, Activity 'C', δ=1.7321\n"
     ]
    },
    {
     "name": "stderr",
     "output_type": "stream",
     "text": [
      "\n"
     ]
    },
    {
     "name": "stdout",
     "output_type": "stream",
     "text": [
      "With log sudden_trace_noise0_1000_cp.xes, Drifpoints = ['370', '860'], Precision = 0.5,  Recall = 1.0, F1 = 0.6666666666666666, event per tree = 100\n",
      "Processing with params 120\n"
     ]
    },
    {
     "name": "stderr",
     "output_type": "stream",
     "text": [
      "process stream: 100%|█| 11331/11331 [00:\n"
     ]
    },
    {
     "name": "stdout",
     "output_type": "stream",
     "text": [
      "[Drift] Tree 717, Event 7800, Case 717, Activity 'A', δ=8.0000\n",
      "With log sudden_trace_noise0_1000_cp.xes, Drifpoints = ['717'], Precision = 0.0,  Recall = 0.0, F1 = nan, event per tree = 120\n",
      "Processing with params 150\n"
     ]
    },
    {
     "name": "stderr",
     "output_type": "stream",
     "text": [
      "process stream:   0%| | 0/11331 [00:00<?"
     ]
    },
    {
     "name": "stdout",
     "output_type": "stream",
     "text": [
      "[Drift] Tree 501, Event 4950, Case 501, Activity 'F', δ=2.8284\n",
      "[Drift] Tree 864, Event 9750, Case 864, Activity 'B', δ=1.7321\n"
     ]
    },
    {
     "name": "stderr",
     "output_type": "stream",
     "text": [
      "process stream: 100%|█| 11331/11331 [00:\n"
     ]
    },
    {
     "name": "stdout",
     "output_type": "stream",
     "text": [
      "With log sudden_trace_noise0_1000_cp.xes, Drifpoints = ['501', '864'], Precision = 0.5,  Recall = 1.0, F1 = 0.6666666666666666, event per tree = 150\n",
      "Processing with params 170\n"
     ]
    },
    {
     "name": "stderr",
     "output_type": "stream",
     "text": [
      "process stream: 100%|█| 11331/11331 [00:"
     ]
    },
    {
     "name": "stdout",
     "output_type": "stream",
     "text": [
      "[Drift] Tree 551, Event 5610, Case 551, Activity 'D', δ=2.2361\n",
      "[Drift] Tree 973, Event 11050, Case 973, Activity 'G', δ=7.4162\n"
     ]
    },
    {
     "name": "stderr",
     "output_type": "stream",
     "text": [
      "\n"
     ]
    },
    {
     "name": "stdout",
     "output_type": "stream",
     "text": [
      "With log sudden_trace_noise0_1000_cp.xes, Drifpoints = ['551', '973'], Precision = 0.5,  Recall = 1.0, F1 = 0.6666666666666666, event per tree = 170\n",
      "Processing with params 200\n"
     ]
    },
    {
     "name": "stderr",
     "output_type": "stream",
     "text": [
      "process stream: 100%|█| 11331/11331 [00:"
     ]
    },
    {
     "name": "stdout",
     "output_type": "stream",
     "text": [
      "[Drift] Tree 623, Event 6600, Case 623, Activity 'E', δ=3.0000\n"
     ]
    },
    {
     "name": "stderr",
     "output_type": "stream",
     "text": [
      "\n"
     ]
    },
    {
     "name": "stdout",
     "output_type": "stream",
     "text": [
      "With log sudden_trace_noise0_1000_cp.xes, Drifpoints = ['623'], Precision = 1.0,  Recall = 1.0, F1 = 1.0, event per tree = 200\n"
     ]
    },
    {
     "name": "stderr",
     "output_type": "stream",
     "text": [
      "parsing log, completed traces :: 100%|█|\n"
     ]
    },
    {
     "name": "stdout",
     "output_type": "stream",
     "text": [
      "Process sudden_trace_noise0_1000_rp.xes\n",
      "Processing with params 50\n"
     ]
    },
    {
     "name": "stderr",
     "output_type": "stream",
     "text": [
      "process stream: 100%|█| 11009/11009 [00:\n"
     ]
    },
    {
     "name": "stdout",
     "output_type": "stream",
     "text": [
      "[Drift] Tree 231, Event 1650, Case 231, Activity 'E', δ=3.6056\n",
      "[Drift] Tree 616, Event 6450, Case 616, Activity 'D', δ=5.0990\n",
      "[Drift] Tree 752, Event 8050, Case 752, Activity 'G', δ=2.0000\n",
      "With log sudden_trace_noise0_1000_rp.xes, Drifpoints = ['231', '616', '752'], Precision = 0.3333333333333333,  Recall = 1.0, F1 = 0.5, event per tree = 50\n",
      "Processing with params 70\n"
     ]
    },
    {
     "name": "stderr",
     "output_type": "stream",
     "text": [
      "process stream:   0%| | 0/11009 [00:00<?"
     ]
    },
    {
     "name": "stdout",
     "output_type": "stream",
     "text": [
      "[Drift] Tree 289, Event 2310, Case 289, Activity 'I', δ=4.6904\n",
      "[Drift] Tree 463, Event 4550, Case 463, Activity 'L', δ=1.7321\n",
      "[Drift] Tree 643, Event 6790, Case 643, Activity 'Q', δ=3.1623\n",
      "[Drift] Tree 83, Event 9030, Case 83, Activity 'F', δ=4.2426\n"
     ]
    },
    {
     "name": "stderr",
     "output_type": "stream",
     "text": [
      "process stream: 100%|█| 11009/11009 [00:\n"
     ]
    },
    {
     "name": "stdout",
     "output_type": "stream",
     "text": [
      "With log sudden_trace_noise0_1000_rp.xes, Drifpoints = ['289', '463', '643', '83'], Precision = 0.25,  Recall = 1.0, F1 = 0.4, event per tree = 70\n",
      "Processing with params 100\n"
     ]
    },
    {
     "name": "stderr",
     "output_type": "stream",
     "text": [
      "process stream:   0%| | 0/11009 [00:00<?"
     ]
    },
    {
     "name": "stdout",
     "output_type": "stream",
     "text": [
      "[Drift] Tree 365, Event 3300, Case 365, Activity 'E', δ=3.3166\n",
      "[Drift] Tree 620, Event 6500, Case 620, Activity 'G', δ=6.4031\n"
     ]
    },
    {
     "name": "stderr",
     "output_type": "stream",
     "text": [
      "process stream: 100%|█| 11009/11009 [00:"
     ]
    },
    {
     "name": "stdout",
     "output_type": "stream",
     "text": [
      "[Drift] Tree 887, Event 9700, Case 887, Activity 'H', δ=4.7958\n"
     ]
    },
    {
     "name": "stderr",
     "output_type": "stream",
     "text": [
      "\n"
     ]
    },
    {
     "name": "stdout",
     "output_type": "stream",
     "text": [
      "With log sudden_trace_noise0_1000_rp.xes, Drifpoints = ['365', '620', '887'], Precision = 0.3333333333333333,  Recall = 1.0, F1 = 0.5, event per tree = 100\n",
      "Processing with params 120\n"
     ]
    },
    {
     "name": "stderr",
     "output_type": "stream",
     "text": [
      "process stream:   0%| | 0/11009 [00:00<?"
     ]
    },
    {
     "name": "stdout",
     "output_type": "stream",
     "text": [
      "[Drift] Tree 418, Event 3960, Case 418, Activity 'G', δ=3.1623\n",
      "[Drift] Tree 731, Event 7800, Case 731, Activity 'L', δ=7.6158\n"
     ]
    },
    {
     "name": "stderr",
     "output_type": "stream",
     "text": [
      "process stream: 100%|█| 11009/11009 [00:\n"
     ]
    },
    {
     "name": "stdout",
     "output_type": "stream",
     "text": [
      "With log sudden_trace_noise0_1000_rp.xes, Drifpoints = ['418', '731'], Precision = 0.5,  Recall = 1.0, F1 = 0.6666666666666666, event per tree = 120\n",
      "Processing with params 150\n"
     ]
    },
    {
     "name": "stderr",
     "output_type": "stream",
     "text": [
      "process stream: 100%|█| 11009/11009 [00:"
     ]
    },
    {
     "name": "stdout",
     "output_type": "stream",
     "text": [
      "[Drift] Tree 498, Event 4950, Case 498, Activity 'A', δ=1.7321\n",
      "[Drift] Tree 891, Event 9750, Case 891, Activity 'H', δ=6.2450\n"
     ]
    },
    {
     "name": "stderr",
     "output_type": "stream",
     "text": [
      "\n"
     ]
    },
    {
     "name": "stdout",
     "output_type": "stream",
     "text": [
      "With log sudden_trace_noise0_1000_rp.xes, Drifpoints = ['498', '891'], Precision = 0.5,  Recall = 1.0, F1 = 0.6666666666666666, event per tree = 150\n",
      "Processing with params 170\n"
     ]
    },
    {
     "name": "stderr",
     "output_type": "stream",
     "text": [
      "process stream: 100%|█| 11009/11009 [00:"
     ]
    },
    {
     "name": "stdout",
     "output_type": "stream",
     "text": [
      "[Drift] Tree 550, Event 5610, Case 550, Activity 'B', δ=10.0000\n"
     ]
    },
    {
     "name": "stderr",
     "output_type": "stream",
     "text": [
      "\n"
     ]
    },
    {
     "name": "stdout",
     "output_type": "stream",
     "text": [
      "With log sudden_trace_noise0_1000_rp.xes, Drifpoints = ['550'], Precision = 1.0,  Recall = 1.0, F1 = 1.0, event per tree = 170\n",
      "Processing with params 200\n"
     ]
    },
    {
     "name": "stderr",
     "output_type": "stream",
     "text": [
      "process stream: 100%|█| 11009/11009 [00:\n"
     ]
    },
    {
     "name": "stdout",
     "output_type": "stream",
     "text": [
      "With log sudden_trace_noise0_1000_rp.xes, Drifpoints = [], Precision = nan,  Recall = 0.0, F1 = nan, event per tree = 200\n"
     ]
    },
    {
     "name": "stderr",
     "output_type": "stream",
     "text": [
      "parsing log, completed traces :: 100%|█|\n"
     ]
    },
    {
     "name": "stdout",
     "output_type": "stream",
     "text": [
      "Process sudden_trace_noise0_1000_lp.xes\n",
      "Processing with params 50\n"
     ]
    },
    {
     "name": "stderr",
     "output_type": "stream",
     "text": [
      "process stream: 100%|█| 12837/12837 [00:\n"
     ]
    },
    {
     "name": "stdout",
     "output_type": "stream",
     "text": [
      "[Drift] Tree 235, Event 1650, Case 235, Activity 'F', δ=1.7321\n",
      "[Drift] Tree 36, Event 3250, Case 36, Activity 'C', δ=2.6458\n",
      "[Drift] Tree 493, Event 4850, Case 493, Activity 'E', δ=3.6056\n",
      "[Drift] Tree 598, Event 6450, Case 598, Activity 'A', δ=4.0000\n",
      "[Drift] Tree 797, Event 9650, Case 797, Activity 'I', δ=2.6458\n",
      "[Drift] Tree 899, Event 11250, Case 899, Activity 'D', δ=1.4142\n",
      "With log sudden_trace_noise0_1000_lp.xes, Drifpoints = ['235', '36', '493', '598', '797', '899'], Precision = 0.16666666666666666,  Recall = 1.0, F1 = 0.2857142857142857, event per tree = 50\n",
      "Processing with params 70\n"
     ]
    },
    {
     "name": "stderr",
     "output_type": "stream",
     "text": [
      "process stream:   0%| | 0/12837 [00:00<?"
     ]
    },
    {
     "name": "stdout",
     "output_type": "stream",
     "text": [
      "[Drift] Tree 466, Event 4550, Case 466, Activity 'F', δ=2.2361\n"
     ]
    },
    {
     "name": "stderr",
     "output_type": "stream",
     "text": [
      "process stream: 100%|█| 12837/12837 [00:\n"
     ]
    },
    {
     "name": "stdout",
     "output_type": "stream",
     "text": [
      "[Drift] Tree 757, Event 9030, Case 757, Activity 'D', δ=2.0000\n",
      "[Drift] Tree 90, Event 11270, Case 90, Activity 'H', δ=1.7321\n",
      "With log sudden_trace_noise0_1000_lp.xes, Drifpoints = ['466', '757', '90'], Precision = 0.3333333333333333,  Recall = 1.0, F1 = 0.5, event per tree = 70\n",
      "Processing with params 100\n"
     ]
    },
    {
     "name": "stderr",
     "output_type": "stream",
     "text": [
      "process stream:   0%| | 0/12837 [00:00<?"
     ]
    },
    {
     "name": "stdout",
     "output_type": "stream",
     "text": [
      "[Drift] Tree 364, Event 3300, Case 364, Activity 'D', δ=3.3166\n",
      "[Drift] Tree 60, Event 6500, Case 60, Activity 'C', δ=2.8284\n",
      "[Drift] Tree 8, Event 9700, Case 8, Activity 'M', δ=2.2361\n"
     ]
    },
    {
     "name": "stderr",
     "output_type": "stream",
     "text": [
      "process stream: 100%|█| 12837/12837 [00:\n"
     ]
    },
    {
     "name": "stdout",
     "output_type": "stream",
     "text": [
      "With log sudden_trace_noise0_1000_lp.xes, Drifpoints = ['364', '60', '8'], Precision = 0.3333333333333333,  Recall = 1.0, F1 = 0.5, event per tree = 100\n",
      "Processing with params 120\n"
     ]
    },
    {
     "name": "stderr",
     "output_type": "stream",
     "text": [
      "process stream:   0%| | 0/12837 [00:00<?"
     ]
    },
    {
     "name": "stdout",
     "output_type": "stream",
     "text": [
      "[Drift] Tree 677, Event 7800, Case 677, Activity 'D', δ=5.0990\n"
     ]
    },
    {
     "name": "stderr",
     "output_type": "stream",
     "text": [
      "process stream: 100%|█| 12837/12837 [00:\n"
     ]
    },
    {
     "name": "stdout",
     "output_type": "stream",
     "text": [
      "[Drift] Tree 926, Event 11640, Case 926, Activity 'E', δ=2.6458\n",
      "With log sudden_trace_noise0_1000_lp.xes, Drifpoints = ['677', '926'], Precision = 0.5,  Recall = 1.0, F1 = 0.6666666666666666, event per tree = 120\n",
      "Processing with params 150\n"
     ]
    },
    {
     "name": "stderr",
     "output_type": "stream",
     "text": [
      "process stream:   0%| | 0/12837 [00:00<?"
     ]
    },
    {
     "name": "stdout",
     "output_type": "stream",
     "text": [
      "[Drift] Tree 500, Event 4950, Case 500, Activity 'G', δ=5.1962\n"
     ]
    },
    {
     "name": "stderr",
     "output_type": "stream",
     "text": [
      "process stream: 100%|█| 12837/12837 [00:"
     ]
    },
    {
     "name": "stdout",
     "output_type": "stream",
     "text": [
      "[Drift] Tree 802, Event 9750, Case 802, Activity 'J', δ=2.0000\n"
     ]
    },
    {
     "name": "stderr",
     "output_type": "stream",
     "text": [
      "\n"
     ]
    },
    {
     "name": "stdout",
     "output_type": "stream",
     "text": [
      "With log sudden_trace_noise0_1000_lp.xes, Drifpoints = ['500', '802'], Precision = 0.5,  Recall = 1.0, F1 = 0.6666666666666666, event per tree = 150\n",
      "Processing with params 170\n"
     ]
    },
    {
     "name": "stderr",
     "output_type": "stream",
     "text": [
      "process stream: 100%|█| 12837/12837 [00:"
     ]
    },
    {
     "name": "stdout",
     "output_type": "stream",
     "text": [
      "[Drift] Tree 547, Event 5610, Case 547, Activity 'A', δ=4.4721\n",
      "[Drift] Tree 886, Event 11050, Case 886, Activity 'A', δ=2.0000\n"
     ]
    },
    {
     "name": "stderr",
     "output_type": "stream",
     "text": [
      "\n"
     ]
    },
    {
     "name": "stdout",
     "output_type": "stream",
     "text": [
      "With log sudden_trace_noise0_1000_lp.xes, Drifpoints = ['547', '886'], Precision = 0.5,  Recall = 1.0, F1 = 0.6666666666666666, event per tree = 170\n",
      "Processing with params 200\n"
     ]
    },
    {
     "name": "stderr",
     "output_type": "stream",
     "text": [
      "process stream: 100%|█| 12837/12837 [00:"
     ]
    },
    {
     "name": "stdout",
     "output_type": "stream",
     "text": [
      "[Drift] Tree 603, Event 6600, Case 603, Activity 'A', δ=7.6158\n"
     ]
    },
    {
     "name": "stderr",
     "output_type": "stream",
     "text": [
      "\n"
     ]
    },
    {
     "name": "stdout",
     "output_type": "stream",
     "text": [
      "With log sudden_trace_noise0_1000_lp.xes, Drifpoints = ['603'], Precision = 1.0,  Recall = 1.0, F1 = 1.0, event per tree = 200\n"
     ]
    },
    {
     "name": "stderr",
     "output_type": "stream",
     "text": [
      "parsing log, completed traces :: 100%|█|\n"
     ]
    },
    {
     "name": "stdout",
     "output_type": "stream",
     "text": [
      "Process sudden_trace_noise0_1000_sw.xes\n",
      "Processing with params 50\n"
     ]
    },
    {
     "name": "stderr",
     "output_type": "stream",
     "text": [
      "process stream: 100%|█| 10970/10970 [00:\n"
     ]
    },
    {
     "name": "stdout",
     "output_type": "stream",
     "text": [
      "[Drift] Tree 232, Event 1650, Case 232, Activity 'C', δ=3.6056\n",
      "[Drift] Tree 363, Event 3250, Case 363, Activity 'F', δ=4.2426\n",
      "[Drift] Tree 486, Event 4850, Case 486, Activity 'G', δ=3.3166\n",
      "[Drift] Tree 614, Event 6450, Case 614, Activity 'B', δ=1.7321\n",
      "[Drift] Tree 750, Event 8050, Case 750, Activity 'N', δ=1.7321\n",
      "[Drift] Tree 889, Event 9650, Case 889, Activity 'B', δ=2.4495\n",
      "With log sudden_trace_noise0_1000_sw.xes, Drifpoints = ['232', '363', '486', '614', '750', '889'], Precision = 0.16666666666666666,  Recall = 1.0, F1 = 0.2857142857142857, event per tree = 50\n",
      "Processing with params 70\n"
     ]
    },
    {
     "name": "stderr",
     "output_type": "stream",
     "text": [
      "process stream:   0%| | 0/10970 [00:00<?"
     ]
    },
    {
     "name": "stdout",
     "output_type": "stream",
     "text": [
      "[Drift] Tree 463, Event 4550, Case 463, Activity 'I', δ=3.6056\n",
      "[Drift] Tree 64, Event 6790, Case 64, Activity 'G', δ=2.8284\n"
     ]
    },
    {
     "name": "stderr",
     "output_type": "stream",
     "text": [
      "process stream: 100%|█| 10970/10970 [00:\n"
     ]
    },
    {
     "name": "stdout",
     "output_type": "stream",
     "text": [
      "[Drift] Tree 832, Event 9030, Case 832, Activity 'N', δ=2.6458\n",
      "With log sudden_trace_noise0_1000_sw.xes, Drifpoints = ['463', '64', '832'], Precision = 0.3333333333333333,  Recall = 1.0, F1 = 0.5, event per tree = 70\n",
      "Processing with params 100\n"
     ]
    },
    {
     "name": "stderr",
     "output_type": "stream",
     "text": [
      "process stream: 100%|█| 10970/10970 [00:\n"
     ]
    },
    {
     "name": "stdout",
     "output_type": "stream",
     "text": [
      "[Drift] Tree 618, Event 6500, Case 618, Activity 'B', δ=2.6458\n",
      "[Drift] Tree 893, Event 9700, Case 893, Activity 'G', δ=2.0000\n",
      "With log sudden_trace_noise0_1000_sw.xes, Drifpoints = ['618', '893'], Precision = 0.5,  Recall = 1.0, F1 = 0.6666666666666666, event per tree = 100\n",
      "Processing with params 120\n"
     ]
    },
    {
     "name": "stderr",
     "output_type": "stream",
     "text": [
      "process stream: 100%|█| 10970/10970 [00:\n"
     ]
    },
    {
     "name": "stdout",
     "output_type": "stream",
     "text": [
      "[Drift] Tree 414, Event 3960, Case 414, Activity 'C', δ=4.6904\n",
      "[Drift] Tree 729, Event 7800, Case 729, Activity 'F', δ=2.6458\n",
      "With log sudden_trace_noise0_1000_sw.xes, Drifpoints = ['414', '729'], Precision = 0.5,  Recall = 1.0, F1 = 0.6666666666666666, event per tree = 120\n",
      "Processing with params 150\n"
     ]
    },
    {
     "name": "stderr",
     "output_type": "stream",
     "text": [
      "process stream: 100%|█| 10970/10970 [00:\n"
     ]
    },
    {
     "name": "stdout",
     "output_type": "stream",
     "text": [
      "[Drift] Tree 492, Event 4950, Case 492, Activity 'E', δ=5.5678\n",
      "[Drift] Tree 897, Event 9750, Case 897, Activity 'G', δ=4.5826\n",
      "With log sudden_trace_noise0_1000_sw.xes, Drifpoints = ['492', '897'], Precision = 0.5,  Recall = 1.0, F1 = 0.6666666666666666, event per tree = 150\n",
      "Processing with params 170\n"
     ]
    },
    {
     "name": "stderr",
     "output_type": "stream",
     "text": [
      "process stream: 100%|█| 10970/10970 [00:"
     ]
    },
    {
     "name": "stdout",
     "output_type": "stream",
     "text": [
      "[Drift] Tree 546, Event 5610, Case 546, Activity 'A', δ=3.8730\n"
     ]
    },
    {
     "name": "stderr",
     "output_type": "stream",
     "text": [
      "\n"
     ]
    },
    {
     "name": "stdout",
     "output_type": "stream",
     "text": [
      "With log sudden_trace_noise0_1000_sw.xes, Drifpoints = ['546'], Precision = 1.0,  Recall = 1.0, F1 = 1.0, event per tree = 170\n",
      "Processing with params 200\n"
     ]
    },
    {
     "name": "stderr",
     "output_type": "stream",
     "text": [
      "process stream: 100%|█| 10970/10970 [00:"
     ]
    },
    {
     "name": "stdout",
     "output_type": "stream",
     "text": [
      "[Drift] Tree 625, Event 6600, Case 625, Activity 'F', δ=2.8284\n"
     ]
    },
    {
     "name": "stderr",
     "output_type": "stream",
     "text": [
      "\n"
     ]
    },
    {
     "name": "stdout",
     "output_type": "stream",
     "text": [
      "With log sudden_trace_noise0_1000_sw.xes, Drifpoints = ['625'], Precision = 1.0,  Recall = 1.0, F1 = 1.0, event per tree = 200\n"
     ]
    },
    {
     "name": "stderr",
     "output_type": "stream",
     "text": [
      "parsing log, completed traces :: 100%|█|\n"
     ]
    },
    {
     "name": "stdout",
     "output_type": "stream",
     "text": [
      "Process sudden_trace_noise0_1000_pl.xes\n",
      "Processing with params 50\n"
     ]
    },
    {
     "name": "stderr",
     "output_type": "stream",
     "text": [
      "process stream: 100%|█| 10911/10911 [00:\n"
     ]
    },
    {
     "name": "stdout",
     "output_type": "stream",
     "text": [
      "[Drift] Tree 239, Event 1650, Case 239, Activity 'G', δ=3.1623\n",
      "[Drift] Tree 369, Event 3250, Case 369, Activity 'K', δ=2.4495\n",
      "[Drift] Tree 627, Event 6450, Case 627, Activity 'A', δ=1.7321\n",
      "[Drift] Tree 761, Event 8050, Case 761, Activity 'A', δ=2.4495\n",
      "[Drift] Tree 894, Event 9650, Case 894, Activity 'J', δ=2.2361\n",
      "With log sudden_trace_noise0_1000_pl.xes, Drifpoints = ['239', '369', '627', '761', '894'], Precision = 0.2,  Recall = 1.0, F1 = 0.33333333333333337, event per tree = 50\n",
      "Processing with params 70\n"
     ]
    },
    {
     "name": "stderr",
     "output_type": "stream",
     "text": [
      "process stream:   0%| | 0/10911 [00:00<?"
     ]
    },
    {
     "name": "stdout",
     "output_type": "stream",
     "text": [
      "[Drift] Tree 654, Event 6790, Case 654, Activity 'M', δ=1.7321\n",
      "[Drift] Tree 843, Event 9030, Case 843, Activity 'M', δ=2.2361\n"
     ]
    },
    {
     "name": "stderr",
     "output_type": "stream",
     "text": [
      "process stream: 100%|█| 10911/10911 [00:\n"
     ]
    },
    {
     "name": "stdout",
     "output_type": "stream",
     "text": [
      "With log sudden_trace_noise0_1000_pl.xes, Drifpoints = ['654', '843'], Precision = 0.5,  Recall = 1.0, F1 = 0.6666666666666666, event per tree = 70\n",
      "Processing with params 100\n"
     ]
    },
    {
     "name": "stderr",
     "output_type": "stream",
     "text": [
      "process stream:   0%| | 0/10911 [00:00<?"
     ]
    },
    {
     "name": "stdout",
     "output_type": "stream",
     "text": [
      "[Drift] Tree 373, Event 3300, Case 373, Activity 'C', δ=5.1962\n",
      "[Drift] Tree 631, Event 6500, Case 631, Activity 'E', δ=3.8730\n"
     ]
    },
    {
     "name": "stderr",
     "output_type": "stream",
     "text": [
      "process stream: 100%|█| 10911/10911 [00:"
     ]
    },
    {
     "name": "stdout",
     "output_type": "stream",
     "text": [
      "[Drift] Tree 899, Event 9700, Case 899, Activity 'I', δ=2.0000\n"
     ]
    },
    {
     "name": "stderr",
     "output_type": "stream",
     "text": [
      "\n"
     ]
    },
    {
     "name": "stdout",
     "output_type": "stream",
     "text": [
      "With log sudden_trace_noise0_1000_pl.xes, Drifpoints = ['373', '631', '899'], Precision = 0.3333333333333333,  Recall = 1.0, F1 = 0.5, event per tree = 100\n",
      "Processing with params 120\n"
     ]
    },
    {
     "name": "stderr",
     "output_type": "stream",
     "text": [
      "process stream:   0%| | 0/10911 [00:00<?"
     ]
    },
    {
     "name": "stdout",
     "output_type": "stream",
     "text": [
      "[Drift] Tree 429, Event 3960, Case 429, Activity 'B', δ=7.6811\n",
      "[Drift] Tree 739, Event 7800, Case 739, Activity 'I', δ=2.2361\n"
     ]
    },
    {
     "name": "stderr",
     "output_type": "stream",
     "text": [
      "process stream: 100%|█| 10911/10911 [00:\n"
     ]
    },
    {
     "name": "stdout",
     "output_type": "stream",
     "text": [
      "With log sudden_trace_noise0_1000_pl.xes, Drifpoints = ['429', '739'], Precision = 0.5,  Recall = 1.0, F1 = 0.6666666666666666, event per tree = 120\n",
      "Processing with params 150\n"
     ]
    },
    {
     "name": "stderr",
     "output_type": "stream",
     "text": [
      "process stream: 100%|█| 10911/10911 [00:"
     ]
    },
    {
     "name": "stdout",
     "output_type": "stream",
     "text": [
      "[Drift] Tree 51, Event 4950, Case 51, Activity 'F', δ=6.0000\n",
      "[Drift] Tree 901, Event 9750, Case 901, Activity 'F', δ=5.1962\n"
     ]
    },
    {
     "name": "stderr",
     "output_type": "stream",
     "text": [
      "\n"
     ]
    },
    {
     "name": "stdout",
     "output_type": "stream",
     "text": [
      "With log sudden_trace_noise0_1000_pl.xes, Drifpoints = ['51', '901'], Precision = 0.0,  Recall = 0.0, F1 = nan, event per tree = 150\n",
      "Processing with params 170\n"
     ]
    },
    {
     "name": "stderr",
     "output_type": "stream",
     "text": [
      "process stream: 100%|█| 10911/10911 [00:"
     ]
    },
    {
     "name": "stdout",
     "output_type": "stream",
     "text": [
      "[Drift] Tree 563, Event 5610, Case 563, Activity 'H', δ=4.4721\n"
     ]
    },
    {
     "name": "stderr",
     "output_type": "stream",
     "text": [
      "\n"
     ]
    },
    {
     "name": "stdout",
     "output_type": "stream",
     "text": [
      "With log sudden_trace_noise0_1000_pl.xes, Drifpoints = ['563'], Precision = 1.0,  Recall = 1.0, F1 = 1.0, event per tree = 170\n",
      "Processing with params 200\n"
     ]
    },
    {
     "name": "stderr",
     "output_type": "stream",
     "text": [
      "process stream: 100%|█| 10911/10911 [00:"
     ]
    },
    {
     "name": "stdout",
     "output_type": "stream",
     "text": [
      "[Drift] Tree 639, Event 6600, Case 639, Activity 'D', δ=4.2426\n"
     ]
    },
    {
     "name": "stderr",
     "output_type": "stream",
     "text": [
      "\n"
     ]
    },
    {
     "name": "stdout",
     "output_type": "stream",
     "text": [
      "With log sudden_trace_noise0_1000_pl.xes, Drifpoints = ['639'], Precision = 1.0,  Recall = 1.0, F1 = 1.0, event per tree = 200\n"
     ]
    },
    {
     "name": "stderr",
     "output_type": "stream",
     "text": [
      "parsing log, completed traces :: 100%|█|\n"
     ]
    },
    {
     "name": "stdout",
     "output_type": "stream",
     "text": [
      "Process sudden_trace_noise0_1000_pm.xes\n",
      "Processing with params 50\n"
     ]
    },
    {
     "name": "stderr",
     "output_type": "stream",
     "text": [
      "process stream: 100%|█| 10739/10739 [00:\n"
     ]
    },
    {
     "name": "stdout",
     "output_type": "stream",
     "text": [
      "[Drift] Tree 370, Event 3250, Case 370, Activity 'B', δ=2.4495\n",
      "[Drift] Tree 499, Event 4850, Case 499, Activity 'E', δ=1.4142\n",
      "[Drift] Tree 634, Event 6450, Case 634, Activity 'H', δ=5.5678\n",
      "[Drift] Tree 773, Event 8050, Case 773, Activity 'E', δ=3.6056\n",
      "[Drift] Tree 905, Event 9650, Case 905, Activity 'M', δ=1.7321\n",
      "With log sudden_trace_noise0_1000_pm.xes, Drifpoints = ['370', '499', '634', '773', '905'], Precision = 0.2,  Recall = 1.0, F1 = 0.33333333333333337, event per tree = 50\n",
      "Processing with params 70\n"
     ]
    },
    {
     "name": "stderr",
     "output_type": "stream",
     "text": [
      "process stream:   0%| | 0/10739 [00:00<?"
     ]
    },
    {
     "name": "stdout",
     "output_type": "stream",
     "text": [
      "[Drift] Tree 288, Event 2310, Case 288, Activity 'K', δ=2.6458\n",
      "[Drift] Tree 472, Event 4550, Case 472, Activity 'E', δ=4.4721\n"
     ]
    },
    {
     "name": "stderr",
     "output_type": "stream",
     "text": [
      "process stream: 100%|█| 10739/10739 [00:\n"
     ]
    },
    {
     "name": "stdout",
     "output_type": "stream",
     "text": [
      "[Drift] Tree 666, Event 6790, Case 666, Activity 'I', δ=2.8284\n",
      "[Drift] Tree 853, Event 9030, Case 853, Activity 'G', δ=3.8730\n",
      "With log sudden_trace_noise0_1000_pm.xes, Drifpoints = ['288', '472', '666', '853'], Precision = 0.25,  Recall = 1.0, F1 = 0.4, event per tree = 70\n",
      "Processing with params 100\n"
     ]
    },
    {
     "name": "stderr",
     "output_type": "stream",
     "text": [
      "process stream:   0%| | 0/10739 [00:00<?"
     ]
    },
    {
     "name": "stdout",
     "output_type": "stream",
     "text": [
      "[Drift] Tree 374, Event 3300, Case 374, Activity 'D', δ=4.4721\n",
      "[Drift] Tree 640, Event 6500, Case 640, Activity 'A', δ=6.3246\n",
      "[Drift] Tree 911, Event 9700, Case 911, Activity 'A', δ=5.4772\n"
     ]
    },
    {
     "name": "stderr",
     "output_type": "stream",
     "text": [
      "process stream: 100%|█| 10739/10739 [00:\n"
     ]
    },
    {
     "name": "stdout",
     "output_type": "stream",
     "text": [
      "With log sudden_trace_noise0_1000_pm.xes, Drifpoints = ['374', '640', '911'], Precision = 0.3333333333333333,  Recall = 1.0, F1 = 0.5, event per tree = 100\n",
      "Processing with params 120\n"
     ]
    },
    {
     "name": "stderr",
     "output_type": "stream",
     "text": [
      "process stream: 100%|█| 10739/10739 [00:\n"
     ]
    },
    {
     "name": "stdout",
     "output_type": "stream",
     "text": [
      "With log sudden_trace_noise0_1000_pm.xes, Drifpoints = [], Precision = nan,  Recall = 0.0, F1 = nan, event per tree = 120\n",
      "Processing with params 150\n"
     ]
    },
    {
     "name": "stderr",
     "output_type": "stream",
     "text": [
      "process stream:   0%| | 0/10739 [00:00<?"
     ]
    },
    {
     "name": "stdout",
     "output_type": "stream",
     "text": [
      "[Drift] Tree 505, Event 4950, Case 505, Activity 'B', δ=1.7321\n"
     ]
    },
    {
     "name": "stderr",
     "output_type": "stream",
     "text": [
      "process stream: 100%|█| 10739/10739 [00:\n"
     ]
    },
    {
     "name": "stdout",
     "output_type": "stream",
     "text": [
      "[Drift] Tree 915, Event 9750, Case 915, Activity 'B', δ=6.8557\n",
      "With log sudden_trace_noise0_1000_pm.xes, Drifpoints = ['505', '915'], Precision = 0.5,  Recall = 1.0, F1 = 0.6666666666666666, event per tree = 150\n",
      "Processing with params 170\n"
     ]
    },
    {
     "name": "stderr",
     "output_type": "stream",
     "text": [
      "process stream: 100%|█| 10739/10739 [00:"
     ]
    },
    {
     "name": "stdout",
     "output_type": "stream",
     "text": [
      "[Drift] Tree 563, Event 5610, Case 563, Activity 'A', δ=5.8310\n"
     ]
    },
    {
     "name": "stderr",
     "output_type": "stream",
     "text": [
      "\n"
     ]
    },
    {
     "name": "stdout",
     "output_type": "stream",
     "text": [
      "With log sudden_trace_noise0_1000_pm.xes, Drifpoints = ['563'], Precision = 1.0,  Recall = 1.0, F1 = 1.0, event per tree = 170\n",
      "Processing with params 200\n"
     ]
    },
    {
     "name": "stderr",
     "output_type": "stream",
     "text": [
      "process stream: 100%|█| 10739/10739 [00:\n"
     ]
    },
    {
     "name": "stdout",
     "output_type": "stream",
     "text": [
      "With log sudden_trace_noise0_1000_pm.xes, Drifpoints = [], Precision = nan,  Recall = 0.0, F1 = nan, event per tree = 200\n"
     ]
    }
   ],
   "source": [
    "for filename in list_data:\n",
    "    pth = data_pth + filename\n",
    "    log = pm4py.read_xes(pth)\n",
    "    print(f\"Process {filename}\")\n",
    "    cid_act_pair = extract_caseid_act(log)\n",
    "    evnts = _group_event_by_key(cid_act_pair)\n",
    "    event_stream = [(case_id, act) for case_id, acts in evnts.items() for act in acts]\n",
    "    events_per_tree_list = [50,70,100,120,150,170,200]\n",
    "    for vpt in events_per_tree_list:\n",
    "        print(f\"Processing with params {vpt}\")\n",
    "        cdd = PrefixCDD(nums_tree = 12, events_per_tree=vpt)\n",
    "        drifts = cdd.process_stream(event_stream)\n",
    "        P, R = calcPrecisionRecall(list(map(int,drifts)), [499], 200, zeroDivision=np.nan)\n",
    "        F1 = calF1Score(list(map(int,drifts)), [499], 200, zeroDivision=np.nan)\n",
    "        s = f\"With log {filename}, Drifpoints = {drifts}, Precision = {P},  Recall = {R}, F1 = {F1}, event per tree = {vpt}\"\n",
    "        print(s)\n",
    "        result.append(s)\n",
    "    \n",
    "        "
   ]
  },
  {
   "cell_type": "code",
   "execution_count": 19,
   "id": "9c1a6e75-5de8-445b-976b-7689fb2a2113",
   "metadata": {
    "scrolled": true
   },
   "outputs": [
    {
     "data": {
      "text/plain": [
       "[\"With log sudden_trace_noise0_1000_cd.xes, Drifpoints = ['235', '501', '632', '768'], Precision = 0.25,  Recall = 1.0, F1 = 0.4, event per tree = 50\",\n",
       " \"With log sudden_trace_noise0_1000_cd.xes, Drifpoints = ['287', '477', '660', '852'], Precision = 0.25,  Recall = 1.0, F1 = 0.4, event per tree = 70\",\n",
       " \"With log sudden_trace_noise0_1000_cd.xes, Drifpoints = ['37', '637'], Precision = 0.5,  Recall = 1.0, F1 = 0.6666666666666666, event per tree = 100\",\n",
       " \"With log sudden_trace_noise0_1000_cd.xes, Drifpoints = ['430', '746'], Precision = 0.5,  Recall = 1.0, F1 = 0.6666666666666666, event per tree = 120\",\n",
       " \"With log sudden_trace_noise0_1000_cd.xes, Drifpoints = ['51', '910'], Precision = 0.0,  Recall = 0.0, F1 = nan, event per tree = 150\",\n",
       " \"With log sudden_trace_noise0_1000_cd.xes, Drifpoints = ['568'], Precision = 1.0,  Recall = 1.0, F1 = 1.0, event per tree = 170\",\n",
       " \"With log sudden_trace_noise0_1000_cd.xes, Drifpoints = ['644'], Precision = 1.0,  Recall = 1.0, F1 = 1.0, event per tree = 200\",\n",
       " \"With log sudden_trace_noise0_1000_cb.xes, Drifpoints = ['375', '50', '641', '782', '919'], Precision = 0.2,  Recall = 1.0, F1 = 0.33333333333333337, event per tree = 50\",\n",
       " \"With log sudden_trace_noise0_1000_cb.xes, Drifpoints = ['295', '87'], Precision = 0.0,  Recall = 0.0, F1 = nan, event per tree = 70\",\n",
       " \"With log sudden_trace_noise0_1000_cb.xes, Drifpoints = ['378', '646', '923'], Precision = 0.3333333333333333,  Recall = 1.0, F1 = 0.5, event per tree = 100\",\n",
       " \"With log sudden_trace_noise0_1000_cb.xes, Drifpoints = ['76'], Precision = 0.0,  Recall = 0.0, F1 = nan, event per tree = 120\",\n",
       " \"With log sudden_trace_noise0_1000_cb.xes, Drifpoints = ['929'], Precision = 0.0,  Recall = 0.0, F1 = nan, event per tree = 150\",\n",
       " \"With log sudden_trace_noise0_1000_cb.xes, Drifpoints = ['568'], Precision = 1.0,  Recall = 1.0, F1 = 1.0, event per tree = 170\",\n",
       " \"With log sudden_trace_noise0_1000_cb.xes, Drifpoints = ['654'], Precision = 1.0,  Recall = 1.0, F1 = 1.0, event per tree = 200\",\n",
       " \"With log sudden_trace_noise0_1000_cf.xes, Drifpoints = ['227', '358', '489', '624', '752', '874'], Precision = 0.16666666666666666,  Recall = 1.0, F1 = 0.2857142857142857, event per tree = 50\",\n",
       " \"With log sudden_trace_noise0_1000_cf.xes, Drifpoints = ['283', '652'], Precision = 0.5,  Recall = 1.0, F1 = 0.6666666666666666, event per tree = 70\",\n",
       " \"With log sudden_trace_noise0_1000_cf.xes, Drifpoints = ['362', '629', '878'], Precision = 0.3333333333333333,  Recall = 1.0, F1 = 0.5, event per tree = 100\",\n",
       " \"With log sudden_trace_noise0_1000_cf.xes, Drifpoints = ['416', '734'], Precision = 0.5,  Recall = 1.0, F1 = 0.6666666666666666, event per tree = 120\",\n",
       " \"With log sudden_trace_noise0_1000_cf.xes, Drifpoints = ['498', '882'], Precision = 0.5,  Recall = 1.0, F1 = 0.6666666666666666, event per tree = 150\",\n",
       " \"With log sudden_trace_noise0_1000_cf.xes, Drifpoints = ['554', '988'], Precision = 0.5,  Recall = 1.0, F1 = 0.6666666666666666, event per tree = 170\",\n",
       " \"With log sudden_trace_noise0_1000_cf.xes, Drifpoints = ['636'], Precision = 1.0,  Recall = 1.0, F1 = 1.0, event per tree = 200\",\n",
       " \"With log sudden_trace_noise0_1000_re.xes, Drifpoints = ['243', '371', '501', '642', '777'], Precision = 0.2,  Recall = 1.0, F1 = 0.33333333333333337, event per tree = 50\",\n",
       " \"With log sudden_trace_noise0_1000_re.xes, Drifpoints = ['294', '478', '67', '866'], Precision = 0.25,  Recall = 1.0, F1 = 0.4, event per tree = 70\",\n",
       " \"With log sudden_trace_noise0_1000_re.xes, Drifpoints = ['376', '928'], Precision = 0.5,  Recall = 1.0, F1 = 0.6666666666666666, event per tree = 100\",\n",
       " \"With log sudden_trace_noise0_1000_re.xes, Drifpoints = ['430', '759'], Precision = 0.5,  Recall = 1.0, F1 = 0.6666666666666666, event per tree = 120\",\n",
       " \"With log sudden_trace_noise0_1000_re.xes, Drifpoints = ['510', '931'], Precision = 0.5,  Recall = 1.0, F1 = 0.6666666666666666, event per tree = 150\",\n",
       " 'With log sudden_trace_noise0_1000_re.xes, Drifpoints = [], Precision = nan,  Recall = 0.0, F1 = nan, event per tree = 170',\n",
       " 'With log sudden_trace_noise0_1000_re.xes, Drifpoints = [], Precision = nan,  Recall = 0.0, F1 = nan, event per tree = 200',\n",
       " \"With log sudden_trace_noise0_1000_cp.xes, Drifpoints = ['234', '366', '495', '610', '735', '856', '991'], Precision = 0.14285714285714285,  Recall = 1.0, F1 = 0.25, event per tree = 50\",\n",
       " \"With log sudden_trace_noise0_1000_cp.xes, Drifpoints = ['289', '469', '81', '994'], Precision = 0.25,  Recall = 1.0, F1 = 0.4, event per tree = 70\",\n",
       " \"With log sudden_trace_noise0_1000_cp.xes, Drifpoints = ['370', '860'], Precision = 0.5,  Recall = 1.0, F1 = 0.6666666666666666, event per tree = 100\",\n",
       " \"With log sudden_trace_noise0_1000_cp.xes, Drifpoints = ['717'], Precision = 0.0,  Recall = 0.0, F1 = nan, event per tree = 120\",\n",
       " \"With log sudden_trace_noise0_1000_cp.xes, Drifpoints = ['501', '864'], Precision = 0.5,  Recall = 1.0, F1 = 0.6666666666666666, event per tree = 150\",\n",
       " \"With log sudden_trace_noise0_1000_cp.xes, Drifpoints = ['551', '973'], Precision = 0.5,  Recall = 1.0, F1 = 0.6666666666666666, event per tree = 170\",\n",
       " \"With log sudden_trace_noise0_1000_cp.xes, Drifpoints = ['623'], Precision = 1.0,  Recall = 1.0, F1 = 1.0, event per tree = 200\",\n",
       " \"With log sudden_trace_noise0_1000_rp.xes, Drifpoints = ['231', '616', '752'], Precision = 0.3333333333333333,  Recall = 1.0, F1 = 0.5, event per tree = 50\",\n",
       " \"With log sudden_trace_noise0_1000_rp.xes, Drifpoints = ['289', '463', '643', '83'], Precision = 0.25,  Recall = 1.0, F1 = 0.4, event per tree = 70\",\n",
       " \"With log sudden_trace_noise0_1000_rp.xes, Drifpoints = ['365', '620', '887'], Precision = 0.3333333333333333,  Recall = 1.0, F1 = 0.5, event per tree = 100\",\n",
       " \"With log sudden_trace_noise0_1000_rp.xes, Drifpoints = ['418', '731'], Precision = 0.5,  Recall = 1.0, F1 = 0.6666666666666666, event per tree = 120\",\n",
       " \"With log sudden_trace_noise0_1000_rp.xes, Drifpoints = ['498', '891'], Precision = 0.5,  Recall = 1.0, F1 = 0.6666666666666666, event per tree = 150\",\n",
       " \"With log sudden_trace_noise0_1000_rp.xes, Drifpoints = ['550'], Precision = 1.0,  Recall = 1.0, F1 = 1.0, event per tree = 170\",\n",
       " 'With log sudden_trace_noise0_1000_rp.xes, Drifpoints = [], Precision = nan,  Recall = 0.0, F1 = nan, event per tree = 200',\n",
       " \"With log sudden_trace_noise0_1000_lp.xes, Drifpoints = ['235', '36', '493', '598', '797', '899'], Precision = 0.16666666666666666,  Recall = 1.0, F1 = 0.2857142857142857, event per tree = 50\",\n",
       " \"With log sudden_trace_noise0_1000_lp.xes, Drifpoints = ['466', '757', '90'], Precision = 0.3333333333333333,  Recall = 1.0, F1 = 0.5, event per tree = 70\",\n",
       " \"With log sudden_trace_noise0_1000_lp.xes, Drifpoints = ['364', '60', '8'], Precision = 0.3333333333333333,  Recall = 1.0, F1 = 0.5, event per tree = 100\",\n",
       " \"With log sudden_trace_noise0_1000_lp.xes, Drifpoints = ['677', '926'], Precision = 0.5,  Recall = 1.0, F1 = 0.6666666666666666, event per tree = 120\",\n",
       " \"With log sudden_trace_noise0_1000_lp.xes, Drifpoints = ['500', '802'], Precision = 0.5,  Recall = 1.0, F1 = 0.6666666666666666, event per tree = 150\",\n",
       " \"With log sudden_trace_noise0_1000_lp.xes, Drifpoints = ['547', '886'], Precision = 0.5,  Recall = 1.0, F1 = 0.6666666666666666, event per tree = 170\",\n",
       " \"With log sudden_trace_noise0_1000_lp.xes, Drifpoints = ['603'], Precision = 1.0,  Recall = 1.0, F1 = 1.0, event per tree = 200\",\n",
       " \"With log sudden_trace_noise0_1000_sw.xes, Drifpoints = ['232', '363', '486', '614', '750', '889'], Precision = 0.16666666666666666,  Recall = 1.0, F1 = 0.2857142857142857, event per tree = 50\",\n",
       " \"With log sudden_trace_noise0_1000_sw.xes, Drifpoints = ['463', '64', '832'], Precision = 0.3333333333333333,  Recall = 1.0, F1 = 0.5, event per tree = 70\",\n",
       " \"With log sudden_trace_noise0_1000_sw.xes, Drifpoints = ['618', '893'], Precision = 0.5,  Recall = 1.0, F1 = 0.6666666666666666, event per tree = 100\",\n",
       " \"With log sudden_trace_noise0_1000_sw.xes, Drifpoints = ['414', '729'], Precision = 0.5,  Recall = 1.0, F1 = 0.6666666666666666, event per tree = 120\",\n",
       " \"With log sudden_trace_noise0_1000_sw.xes, Drifpoints = ['492', '897'], Precision = 0.5,  Recall = 1.0, F1 = 0.6666666666666666, event per tree = 150\",\n",
       " \"With log sudden_trace_noise0_1000_sw.xes, Drifpoints = ['546'], Precision = 1.0,  Recall = 1.0, F1 = 1.0, event per tree = 170\",\n",
       " \"With log sudden_trace_noise0_1000_sw.xes, Drifpoints = ['625'], Precision = 1.0,  Recall = 1.0, F1 = 1.0, event per tree = 200\",\n",
       " \"With log sudden_trace_noise0_1000_pl.xes, Drifpoints = ['239', '369', '627', '761', '894'], Precision = 0.2,  Recall = 1.0, F1 = 0.33333333333333337, event per tree = 50\",\n",
       " \"With log sudden_trace_noise0_1000_pl.xes, Drifpoints = ['654', '843'], Precision = 0.5,  Recall = 1.0, F1 = 0.6666666666666666, event per tree = 70\",\n",
       " \"With log sudden_trace_noise0_1000_pl.xes, Drifpoints = ['373', '631', '899'], Precision = 0.3333333333333333,  Recall = 1.0, F1 = 0.5, event per tree = 100\",\n",
       " \"With log sudden_trace_noise0_1000_pl.xes, Drifpoints = ['429', '739'], Precision = 0.5,  Recall = 1.0, F1 = 0.6666666666666666, event per tree = 120\",\n",
       " \"With log sudden_trace_noise0_1000_pl.xes, Drifpoints = ['51', '901'], Precision = 0.0,  Recall = 0.0, F1 = nan, event per tree = 150\",\n",
       " \"With log sudden_trace_noise0_1000_pl.xes, Drifpoints = ['563'], Precision = 1.0,  Recall = 1.0, F1 = 1.0, event per tree = 170\",\n",
       " \"With log sudden_trace_noise0_1000_pl.xes, Drifpoints = ['639'], Precision = 1.0,  Recall = 1.0, F1 = 1.0, event per tree = 200\",\n",
       " \"With log sudden_trace_noise0_1000_pm.xes, Drifpoints = ['370', '499', '634', '773', '905'], Precision = 0.2,  Recall = 1.0, F1 = 0.33333333333333337, event per tree = 50\",\n",
       " \"With log sudden_trace_noise0_1000_pm.xes, Drifpoints = ['288', '472', '666', '853'], Precision = 0.25,  Recall = 1.0, F1 = 0.4, event per tree = 70\",\n",
       " \"With log sudden_trace_noise0_1000_pm.xes, Drifpoints = ['374', '640', '911'], Precision = 0.3333333333333333,  Recall = 1.0, F1 = 0.5, event per tree = 100\",\n",
       " 'With log sudden_trace_noise0_1000_pm.xes, Drifpoints = [], Precision = nan,  Recall = 0.0, F1 = nan, event per tree = 120',\n",
       " \"With log sudden_trace_noise0_1000_pm.xes, Drifpoints = ['505', '915'], Precision = 0.5,  Recall = 1.0, F1 = 0.6666666666666666, event per tree = 150\",\n",
       " \"With log sudden_trace_noise0_1000_pm.xes, Drifpoints = ['563'], Precision = 1.0,  Recall = 1.0, F1 = 1.0, event per tree = 170\",\n",
       " 'With log sudden_trace_noise0_1000_pm.xes, Drifpoints = [], Precision = nan,  Recall = 0.0, F1 = nan, event per tree = 200']"
      ]
     },
     "execution_count": 19,
     "metadata": {},
     "output_type": "execute_result"
    }
   ],
   "source": [
    "result"
   ]
  },
  {
   "cell_type": "code",
   "execution_count": 20,
   "id": "db483b35-36c1-4b2b-80cb-4bf52b6ed5ba",
   "metadata": {},
   "outputs": [
    {
     "data": {
      "text/plain": [
       "'\\ncd: 1-1-1, 69\\ncb: 1-1-1.69\\ncf: 1-1-1, 137\\nre: 0.5-1-0.66, 10\\ncp: .5 -1-0.66, 52\\nrp 1-1-1, 50\\nlp: 1-1-1, 104\\nsw: 1-1-1, 47\\npl: 1-1-1, 64\\npm: 1-1-1, 64\\n'"
      ]
     },
     "execution_count": 20,
     "metadata": {},
     "output_type": "execute_result"
    }
   ],
   "source": [
    "\"\"\"\n",
    "cd: 1-1-1, 69\n",
    "cb: 1-1-1.69\n",
    "cf: 1-1-1, 137\n",
    "re: 0.5-1-0.66, 10\n",
    "cp: .5 -1-0.66, 52\n",
    "rp 1-1-1, 50\n",
    "lp: 1-1-1, 104\n",
    "sw: 1-1-1, 47\n",
    "pl: 1-1-1, 64\n",
    "pm: 1-1-1, 64\n",
    "\"\"\"\n"
   ]
  },
  {
   "cell_type": "code",
   "execution_count": null,
   "id": "43e7255a-b4b0-465c-b4a7-07e09c1c333a",
   "metadata": {},
   "outputs": [],
   "source": []
  }
 ],
 "metadata": {
  "kernelspec": {
   "display_name": "Python 3 (ipykernel)",
   "language": "python",
   "name": "python3"
  },
  "language_info": {
   "codemirror_mode": {
    "name": "ipython",
    "version": 3
   },
   "file_extension": ".py",
   "mimetype": "text/x-python",
   "name": "python",
   "nbconvert_exporter": "python",
   "pygments_lexer": "ipython3",
   "version": "3.9.23"
  }
 },
 "nbformat": 4,
 "nbformat_minor": 5
}
