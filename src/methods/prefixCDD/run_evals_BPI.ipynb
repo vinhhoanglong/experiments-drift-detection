{
 "cells": [
  {
   "cell_type": "code",
   "execution_count": 1,
   "id": "8bddc3fc-0c3c-4507-b690-e2fa41b6463a",
   "metadata": {},
   "outputs": [
    {
     "name": "stdout",
     "output_type": "stream",
     "text": [
      "/home/vinh/project/experiments-drift-detection/src/methods/prefixCDD\n"
     ]
    }
   ],
   "source": [
    "!pwd"
   ]
  },
  {
   "cell_type": "code",
   "execution_count": 2,
   "id": "a759fa06-516d-4510-9e54-62200c5eb8b9",
   "metadata": {},
   "outputs": [],
   "source": [
    "import os\n",
    "os.chdir('../../../')"
   ]
  },
  {
   "cell_type": "code",
   "execution_count": 3,
   "id": "d6f0deb3-e0e4-46ba-9d2e-1957c5a0a0e6",
   "metadata": {},
   "outputs": [
    {
     "name": "stdout",
     "output_type": "stream",
     "text": [
      "/home/vinh/project/experiments-drift-detection\n"
     ]
    }
   ],
   "source": [
    "!pwd"
   ]
  },
  {
   "cell_type": "code",
   "execution_count": 11,
   "id": "e42052ad-3013-48a9-8dfb-34ac11e29dcc",
   "metadata": {},
   "outputs": [],
   "source": [
    "import pm4py \n",
    "from src.methods.prefixCDD.prefixcdd import _group_event_by_key, extract_caseid_act, PrefixCDD\n",
    "from src.evaluation import calF1Score, calcPrecisionRecall\n",
    "import numpy as np"
   ]
  },
  {
   "cell_type": "code",
   "execution_count": 5,
   "id": "6da41569-f227-4f4a-9667-89f18fc0b176",
   "metadata": {},
   "outputs": [],
   "source": [
    "data_pth = 'data/BPI Challenge 2017.xes'"
   ]
  },
  {
   "cell_type": "code",
   "execution_count": 6,
   "id": "f46aa0b0-8f99-4543-9cda-4071c0308750",
   "metadata": {},
   "outputs": [
    {
     "name": "stderr",
     "output_type": "stream",
     "text": [
      "/home/vinh/anaconda3/envs/myenv/lib/python3.9/site-packages/tqdm/auto.py:21: TqdmWarning: IProgress not found. Please update jupyter and ipywidgets. See https://ipywidgets.readthedocs.io/en/stable/user_install.html\n",
      "  from .autonotebook import tqdm as notebook_tqdm\n",
      "parsing log, completed traces :: 100%|█|\n"
     ]
    }
   ],
   "source": [
    "log = pm4py.read_xes(data_pth)"
   ]
  },
  {
   "cell_type": "code",
   "execution_count": 40,
   "id": "ccce2f15-091d-4121-81f2-a47bc98bffd3",
   "metadata": {
    "scrolled": true
   },
   "outputs": [
    {
     "name": "stderr",
     "output_type": "stream",
     "text": [
      "process stream:   8%| | 100485/1202267 ["
     ]
    },
    {
     "name": "stdout",
     "output_type": "stream",
     "text": [
      "[Drift] Tree Application_451341004, Event 66000, Case Application_451341004, Activity 'O_Created', δ=7.4162\n"
     ]
    },
    {
     "name": "stderr",
     "output_type": "stream",
     "text": [
      "process stream:  13%|▏| 160000/1202267 ["
     ]
    },
    {
     "name": "stdout",
     "output_type": "stream",
     "text": [
      "[Drift] Tree Application_1405484331, Event 130000, Case Application_1405484331, Activity 'A_Submitted', δ=9.4868\n"
     ]
    },
    {
     "name": "stderr",
     "output_type": "stream",
     "text": [
      "process stream:  19%|▏| 232000/1202267 ["
     ]
    },
    {
     "name": "stdout",
     "output_type": "stream",
     "text": [
      "[Drift] Tree Application_1343107752, Event 194000, Case Application_1343107752, Activity 'W_Call after offers', δ=7.0711\n"
     ]
    },
    {
     "name": "stderr",
     "output_type": "stream",
     "text": [
      "process stream:  23%|▏| 280000/1202267 ["
     ]
    },
    {
     "name": "stdout",
     "output_type": "stream",
     "text": [
      "[Drift] Tree Application_1034706502, Event 258000, Case Application_1034706502, Activity 'W_Call incomplete files', δ=6.0000\n"
     ]
    },
    {
     "name": "stderr",
     "output_type": "stream",
     "text": [
      "process stream:  25%|▎| 302375/1202267 ["
     ]
    },
    {
     "name": "stdout",
     "output_type": "stream",
     "text": [
      "[Drift] Tree Application_209668210, Event 322000, Case Application_209668210, Activity 'O_Create Offer', δ=12.9228\n"
     ]
    },
    {
     "name": "stderr",
     "output_type": "stream",
     "text": [
      "process stream:  35%|▎| 418000/1202267 ["
     ]
    },
    {
     "name": "stdout",
     "output_type": "stream",
     "text": [
      "[Drift] Tree Application_1878767958, Event 386000, Case Application_1878767958, Activity 'W_Complete application', δ=5.0990\n"
     ]
    },
    {
     "name": "stderr",
     "output_type": "stream",
     "text": [
      "process stream:  41%|▍| 490000/1202267 ["
     ]
    },
    {
     "name": "stdout",
     "output_type": "stream",
     "text": [
      "[Drift] Tree Application_1788651940, Event 450000, Case Application_1788651940, Activity 'A_Accepted', δ=5.0990\n"
     ]
    },
    {
     "name": "stderr",
     "output_type": "stream",
     "text": [
      "process stream:  46%|▍| 558167/1202267 ["
     ]
    },
    {
     "name": "stdout",
     "output_type": "stream",
     "text": [
      "[Drift] Tree Application_1129416788, Event 514000, Case Application_1129416788, Activity 'A_Concept', δ=8.3066\n"
     ]
    },
    {
     "name": "stderr",
     "output_type": "stream",
     "text": [
      "process stream:  53%|▌| 631659/1202267 ["
     ]
    },
    {
     "name": "stdout",
     "output_type": "stream",
     "text": [
      "[Drift] Tree Application_1744092101, Event 642000, Case Application_1744092101, Activity 'W_Validate application', δ=3.8730\n"
     ]
    },
    {
     "name": "stderr",
     "output_type": "stream",
     "text": [
      "process stream:  61%|▌| 734000/1202267 ["
     ]
    },
    {
     "name": "stdout",
     "output_type": "stream",
     "text": [
      "[Drift] Tree Application_592767974, Event 706000, Case Application_592767974, Activity 'W_Validate application', δ=3.1623\n"
     ]
    },
    {
     "name": "stderr",
     "output_type": "stream",
     "text": [
      "process stream:  68%|▋| 816000/1202267 ["
     ]
    },
    {
     "name": "stdout",
     "output_type": "stream",
     "text": [
      "[Drift] Tree Application_1647108674, Event 770000, Case Application_1647108674, Activity 'W_Call incomplete files', δ=12.2066\n"
     ]
    },
    {
     "name": "stderr",
     "output_type": "stream",
     "text": [
      "process stream:  73%|▋| 872000/1202267 ["
     ]
    },
    {
     "name": "stdout",
     "output_type": "stream",
     "text": [
      "[Drift] Tree Application_1919048321, Event 834000, Case Application_1919048321, Activity 'W_Call incomplete files', δ=8.0000\n"
     ]
    },
    {
     "name": "stderr",
     "output_type": "stream",
     "text": [
      "process stream:  81%|▊| 974771/1202267 ["
     ]
    },
    {
     "name": "stdout",
     "output_type": "stream",
     "text": [
      "[Drift] Tree Application_398311287, Event 962000, Case Application_398311287, Activity 'W_Call incomplete files', δ=6.6332\n"
     ]
    },
    {
     "name": "stderr",
     "output_type": "stream",
     "text": [
      "process stream:  89%|▉| 1074000/1202267 "
     ]
    },
    {
     "name": "stdout",
     "output_type": "stream",
     "text": [
      "[Drift] Tree Application_2102558833, Event 1026000, Case Application_2102558833, Activity 'O_Accepted', δ=10.6771\n"
     ]
    },
    {
     "name": "stderr",
     "output_type": "stream",
     "text": [
      "process stream:  94%|▉| 1126000/1202267 "
     ]
    },
    {
     "name": "stdout",
     "output_type": "stream",
     "text": [
      "[Drift] Tree Application_254178417, Event 1090000, Case Application_254178417, Activity 'W_Validate application', δ=13.1529\n"
     ]
    },
    {
     "name": "stderr",
     "output_type": "stream",
     "text": [
      "process stream: 100%|█| 1202267/1202267 "
     ]
    },
    {
     "name": "stdout",
     "output_type": "stream",
     "text": [
      "[Drift] Tree Application_679723515, Event 1154000, Case Application_679723515, Activity 'W_Complete application', δ=6.7082\n"
     ]
    },
    {
     "name": "stderr",
     "output_type": "stream",
     "text": [
      "\n"
     ]
    }
   ],
   "source": [
    "cid_act_pair = extract_caseid_act(log)\n",
    "evnts = _group_event_by_key(cid_act_pair)\n",
    "event_stream = [(case_id, act) for case_id, acts in evnts.items() for act in acts]\n",
    "cdd = PrefixCDD(nums_tree = 50, events_per_tree=2000)\n",
    "drifts = cdd.process_stream(event_stream)\n",
    "# P, R = calcPrecisionRecall(list(map(int,drifts)), [499], 200, zeroDivision=np.nan)\n",
    "# F1 = calF1Score(list(map(int,drifts)), [499], 200, zeroDivision=np.nan)\n",
    "# s = f\"With log {filename}, Drifpoints = {drifts}, Precision = {P},  Recall = {R}, F1 = {F1}, event per tree = {vpt}\"\n",
    "# print(s)\n"
   ]
  },
  {
   "cell_type": "code",
   "execution_count": 41,
   "id": "d0bc6ac3-368d-4248-b883-40804b4e939e",
   "metadata": {},
   "outputs": [
    {
     "data": {
      "text/plain": [
       "16"
      ]
     },
     "execution_count": 41,
     "metadata": {},
     "output_type": "execute_result"
    }
   ],
   "source": [
    "len(drifts)"
   ]
  },
  {
   "cell_type": "code",
   "execution_count": 42,
   "id": "3a30d5ef-8359-4f49-9c9a-0188f1f88cee",
   "metadata": {},
   "outputs": [
    {
     "data": {
      "text/plain": [
       "['Application_451341004',\n",
       " 'Application_1405484331',\n",
       " 'Application_1343107752',\n",
       " 'Application_1034706502',\n",
       " 'Application_209668210',\n",
       " 'Application_1878767958',\n",
       " 'Application_1788651940',\n",
       " 'Application_1129416788',\n",
       " 'Application_1744092101',\n",
       " 'Application_592767974',\n",
       " 'Application_1647108674',\n",
       " 'Application_1919048321',\n",
       " 'Application_398311287',\n",
       " 'Application_2102558833',\n",
       " 'Application_254178417',\n",
       " 'Application_679723515']"
      ]
     },
     "execution_count": 42,
     "metadata": {},
     "output_type": "execute_result"
    }
   ],
   "source": [
    "drifts"
   ]
  },
  {
   "cell_type": "code",
   "execution_count": null,
   "id": "18159c73-927c-4ff2-a3fe-8cdd38c18f64",
   "metadata": {},
   "outputs": [],
   "source": []
  }
 ],
 "metadata": {
  "kernelspec": {
   "display_name": "Python 3 (ipykernel)",
   "language": "python",
   "name": "python3"
  },
  "language_info": {
   "codemirror_mode": {
    "name": "ipython",
    "version": 3
   },
   "file_extension": ".py",
   "mimetype": "text/x-python",
   "name": "python",
   "nbconvert_exporter": "python",
   "pygments_lexer": "ipython3",
   "version": "3.9.23"
  }
 },
 "nbformat": 4,
 "nbformat_minor": 5
}
