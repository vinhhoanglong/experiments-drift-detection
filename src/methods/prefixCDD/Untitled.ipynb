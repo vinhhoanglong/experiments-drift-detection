{
 "cells": [
  {
   "cell_type": "code",
   "execution_count": 1,
   "id": "edf3e69c-e141-4fa2-951f-d6202b31e2b2",
   "metadata": {},
   "outputs": [],
   "source": [
    "import pandas as pd\n"
   ]
  },
  {
   "cell_type": "code",
   "execution_count": 2,
   "id": "a5ca4dab-9d4c-4e0b-af52-6c094d6b7846",
   "metadata": {},
   "outputs": [],
   "source": [
    "df = pd.read_csv('../../../data/BPI_Challenge_2017.csv')"
   ]
  },
  {
   "cell_type": "code",
   "execution_count": 3,
   "id": "44981b44-e54b-43b1-b56d-03640a66384f",
   "metadata": {},
   "outputs": [
    {
     "data": {
      "text/html": [
       "<div>\n",
       "<style scoped>\n",
       "    .dataframe tbody tr th:only-of-type {\n",
       "        vertical-align: middle;\n",
       "    }\n",
       "\n",
       "    .dataframe tbody tr th {\n",
       "        vertical-align: top;\n",
       "    }\n",
       "\n",
       "    .dataframe thead th {\n",
       "        text-align: right;\n",
       "    }\n",
       "</style>\n",
       "<table border=\"1\" class=\"dataframe\">\n",
       "  <thead>\n",
       "    <tr style=\"text-align: right;\">\n",
       "      <th></th>\n",
       "      <th>Action</th>\n",
       "      <th>org:resource</th>\n",
       "      <th>concept:name</th>\n",
       "      <th>EventOrigin</th>\n",
       "      <th>EventID</th>\n",
       "      <th>lifecycle:transition</th>\n",
       "      <th>time:timestamp</th>\n",
       "      <th>case:LoanGoal</th>\n",
       "      <th>case:ApplicationType</th>\n",
       "      <th>case:concept:name</th>\n",
       "      <th>case:RequestedAmount</th>\n",
       "      <th>FirstWithdrawalAmount</th>\n",
       "      <th>NumberOfTerms</th>\n",
       "      <th>Accepted</th>\n",
       "      <th>MonthlyCost</th>\n",
       "      <th>Selected</th>\n",
       "      <th>CreditScore</th>\n",
       "      <th>OfferedAmount</th>\n",
       "      <th>OfferID</th>\n",
       "    </tr>\n",
       "  </thead>\n",
       "  <tbody>\n",
       "    <tr>\n",
       "      <th>0</th>\n",
       "      <td>Created</td>\n",
       "      <td>User_1</td>\n",
       "      <td>A_Create Application</td>\n",
       "      <td>Application</td>\n",
       "      <td>Application_652823628</td>\n",
       "      <td>complete</td>\n",
       "      <td>2016-01-01 09:51:15.304</td>\n",
       "      <td>Existing loan takeover</td>\n",
       "      <td>New credit</td>\n",
       "      <td>Application_652823628</td>\n",
       "      <td>20000.0</td>\n",
       "      <td>NaN</td>\n",
       "      <td>NaN</td>\n",
       "      <td>NaN</td>\n",
       "      <td>NaN</td>\n",
       "      <td>NaN</td>\n",
       "      <td>NaN</td>\n",
       "      <td>NaN</td>\n",
       "      <td>NaN</td>\n",
       "    </tr>\n",
       "    <tr>\n",
       "      <th>1</th>\n",
       "      <td>statechange</td>\n",
       "      <td>User_1</td>\n",
       "      <td>A_Submitted</td>\n",
       "      <td>Application</td>\n",
       "      <td>ApplState_1582051990</td>\n",
       "      <td>complete</td>\n",
       "      <td>2016-01-01 09:51:15.352</td>\n",
       "      <td>Existing loan takeover</td>\n",
       "      <td>New credit</td>\n",
       "      <td>Application_652823628</td>\n",
       "      <td>20000.0</td>\n",
       "      <td>NaN</td>\n",
       "      <td>NaN</td>\n",
       "      <td>NaN</td>\n",
       "      <td>NaN</td>\n",
       "      <td>NaN</td>\n",
       "      <td>NaN</td>\n",
       "      <td>NaN</td>\n",
       "      <td>NaN</td>\n",
       "    </tr>\n",
       "    <tr>\n",
       "      <th>2</th>\n",
       "      <td>Created</td>\n",
       "      <td>User_1</td>\n",
       "      <td>W_Handle leads</td>\n",
       "      <td>Workflow</td>\n",
       "      <td>Workitem_1298499574</td>\n",
       "      <td>schedule</td>\n",
       "      <td>2016-01-01 09:51:15.774</td>\n",
       "      <td>Existing loan takeover</td>\n",
       "      <td>New credit</td>\n",
       "      <td>Application_652823628</td>\n",
       "      <td>20000.0</td>\n",
       "      <td>NaN</td>\n",
       "      <td>NaN</td>\n",
       "      <td>NaN</td>\n",
       "      <td>NaN</td>\n",
       "      <td>NaN</td>\n",
       "      <td>NaN</td>\n",
       "      <td>NaN</td>\n",
       "      <td>NaN</td>\n",
       "    </tr>\n",
       "    <tr>\n",
       "      <th>3</th>\n",
       "      <td>Deleted</td>\n",
       "      <td>User_1</td>\n",
       "      <td>W_Handle leads</td>\n",
       "      <td>Workflow</td>\n",
       "      <td>Workitem_1673366067</td>\n",
       "      <td>withdraw</td>\n",
       "      <td>2016-01-01 09:52:36.392</td>\n",
       "      <td>Existing loan takeover</td>\n",
       "      <td>New credit</td>\n",
       "      <td>Application_652823628</td>\n",
       "      <td>20000.0</td>\n",
       "      <td>NaN</td>\n",
       "      <td>NaN</td>\n",
       "      <td>NaN</td>\n",
       "      <td>NaN</td>\n",
       "      <td>NaN</td>\n",
       "      <td>NaN</td>\n",
       "      <td>NaN</td>\n",
       "      <td>NaN</td>\n",
       "    </tr>\n",
       "    <tr>\n",
       "      <th>4</th>\n",
       "      <td>Created</td>\n",
       "      <td>User_1</td>\n",
       "      <td>W_Complete application</td>\n",
       "      <td>Workflow</td>\n",
       "      <td>Workitem_1493664571</td>\n",
       "      <td>schedule</td>\n",
       "      <td>2016-01-01 09:52:36.403</td>\n",
       "      <td>Existing loan takeover</td>\n",
       "      <td>New credit</td>\n",
       "      <td>Application_652823628</td>\n",
       "      <td>20000.0</td>\n",
       "      <td>NaN</td>\n",
       "      <td>NaN</td>\n",
       "      <td>NaN</td>\n",
       "      <td>NaN</td>\n",
       "      <td>NaN</td>\n",
       "      <td>NaN</td>\n",
       "      <td>NaN</td>\n",
       "      <td>NaN</td>\n",
       "    </tr>\n",
       "  </tbody>\n",
       "</table>\n",
       "</div>"
      ],
      "text/plain": [
       "        Action org:resource            concept:name  EventOrigin  \\\n",
       "0      Created       User_1    A_Create Application  Application   \n",
       "1  statechange       User_1             A_Submitted  Application   \n",
       "2      Created       User_1          W_Handle leads     Workflow   \n",
       "3      Deleted       User_1          W_Handle leads     Workflow   \n",
       "4      Created       User_1  W_Complete application     Workflow   \n",
       "\n",
       "                 EventID lifecycle:transition           time:timestamp  \\\n",
       "0  Application_652823628             complete  2016-01-01 09:51:15.304   \n",
       "1   ApplState_1582051990             complete  2016-01-01 09:51:15.352   \n",
       "2    Workitem_1298499574             schedule  2016-01-01 09:51:15.774   \n",
       "3    Workitem_1673366067             withdraw  2016-01-01 09:52:36.392   \n",
       "4    Workitem_1493664571             schedule  2016-01-01 09:52:36.403   \n",
       "\n",
       "            case:LoanGoal case:ApplicationType      case:concept:name  \\\n",
       "0  Existing loan takeover           New credit  Application_652823628   \n",
       "1  Existing loan takeover           New credit  Application_652823628   \n",
       "2  Existing loan takeover           New credit  Application_652823628   \n",
       "3  Existing loan takeover           New credit  Application_652823628   \n",
       "4  Existing loan takeover           New credit  Application_652823628   \n",
       "\n",
       "   case:RequestedAmount  FirstWithdrawalAmount  NumberOfTerms Accepted  \\\n",
       "0               20000.0                    NaN            NaN      NaN   \n",
       "1               20000.0                    NaN            NaN      NaN   \n",
       "2               20000.0                    NaN            NaN      NaN   \n",
       "3               20000.0                    NaN            NaN      NaN   \n",
       "4               20000.0                    NaN            NaN      NaN   \n",
       "\n",
       "   MonthlyCost Selected  CreditScore  OfferedAmount OfferID  \n",
       "0          NaN      NaN          NaN            NaN     NaN  \n",
       "1          NaN      NaN          NaN            NaN     NaN  \n",
       "2          NaN      NaN          NaN            NaN     NaN  \n",
       "3          NaN      NaN          NaN            NaN     NaN  \n",
       "4          NaN      NaN          NaN            NaN     NaN  "
      ]
     },
     "execution_count": 3,
     "metadata": {},
     "output_type": "execute_result"
    }
   ],
   "source": [
    "df.head(5)"
   ]
  },
  {
   "cell_type": "code",
   "execution_count": 47,
   "id": "e385810c-8486-49e0-9859-abb41bcc1323",
   "metadata": {},
   "outputs": [],
   "source": [
    "week_df = pd.read_csv('../../../data/weeks.csv')"
   ]
  },
  {
   "cell_type": "code",
   "execution_count": 48,
   "id": "15960083-c6e5-4af1-a4f2-e855f82ded32",
   "metadata": {},
   "outputs": [
    {
     "data": {
      "text/html": [
       "<div>\n",
       "<style scoped>\n",
       "    .dataframe tbody tr th:only-of-type {\n",
       "        vertical-align: middle;\n",
       "    }\n",
       "\n",
       "    .dataframe tbody tr th {\n",
       "        vertical-align: top;\n",
       "    }\n",
       "\n",
       "    .dataframe thead th {\n",
       "        text-align: right;\n",
       "    }\n",
       "</style>\n",
       "<table border=\"1\" class=\"dataframe\">\n",
       "  <thead>\n",
       "    <tr style=\"text-align: right;\">\n",
       "      <th></th>\n",
       "      <th>Unnamed: 0</th>\n",
       "      <th>Week</th>\n",
       "      <th>Traces</th>\n",
       "    </tr>\n",
       "  </thead>\n",
       "  <tbody>\n",
       "    <tr>\n",
       "      <th>0</th>\n",
       "      <td>0</td>\n",
       "      <td>1</td>\n",
       "      <td>['Application_652823628', 'Application_1691306...</td>\n",
       "    </tr>\n",
       "    <tr>\n",
       "      <th>1</th>\n",
       "      <td>1</td>\n",
       "      <td>2</td>\n",
       "      <td>['Application_652823628', 'Application_4284097...</td>\n",
       "    </tr>\n",
       "    <tr>\n",
       "      <th>2</th>\n",
       "      <td>2</td>\n",
       "      <td>3</td>\n",
       "      <td>['Application_619403287', 'Application_7589856...</td>\n",
       "    </tr>\n",
       "    <tr>\n",
       "      <th>3</th>\n",
       "      <td>3</td>\n",
       "      <td>4</td>\n",
       "      <td>['Application_1746793196', 'Application_108588...</td>\n",
       "    </tr>\n",
       "    <tr>\n",
       "      <th>4</th>\n",
       "      <td>4</td>\n",
       "      <td>5</td>\n",
       "      <td>['Application_828200680', 'Application_1710223...</td>\n",
       "    </tr>\n",
       "  </tbody>\n",
       "</table>\n",
       "</div>"
      ],
      "text/plain": [
       "   Unnamed: 0  Week                                             Traces\n",
       "0           0     1  ['Application_652823628', 'Application_1691306...\n",
       "1           1     2  ['Application_652823628', 'Application_4284097...\n",
       "2           2     3  ['Application_619403287', 'Application_7589856...\n",
       "3           3     4  ['Application_1746793196', 'Application_108588...\n",
       "4           4     5  ['Application_828200680', 'Application_1710223..."
      ]
     },
     "execution_count": 48,
     "metadata": {},
     "output_type": "execute_result"
    }
   ],
   "source": [
    "week_df.head()"
   ]
  },
  {
   "cell_type": "code",
   "execution_count": 130,
   "id": "ec91311b-5d8c-49ad-ad6c-a9b8e867c4f5",
   "metadata": {},
   "outputs": [],
   "source": [
    "def check(case_id, week):\n",
    "    lst = week_df[week_df['Week'] == week]['Traces'].explode()\n",
    "    for x in lst:\n",
    "        mylist = ast.literal_eval(x)\n",
    "    for c in mylist:\n",
    "        if c == case_id:\n",
    "            return True\n",
    "    return False"
   ]
  },
  {
   "cell_type": "code",
   "execution_count": 120,
   "id": "7d167f2c-4fbe-4034-928b-8045164cdec1",
   "metadata": {},
   "outputs": [],
   "source": [
    "lst = week_df[week_df['Week'] == 3]['Traces'].explode()"
   ]
  },
  {
   "cell_type": "code",
   "execution_count": 127,
   "id": "d3887762-576c-4f4d-90bc-bd981f8d7c9f",
   "metadata": {
    "scrolled": true
   },
   "outputs": [],
   "source": [
    "import ast\n",
    "for x in lst:\n",
    "    mylist = ast.literal_eval(x)"
   ]
  },
  {
   "cell_type": "code",
   "execution_count": 129,
   "id": "802cd286-978b-4b18-852a-56e2cc761e47",
   "metadata": {
    "scrolled": true
   },
   "outputs": [
    {
     "data": {
      "text/plain": [
       "'Application_619403287'"
      ]
     },
     "execution_count": 129,
     "metadata": {},
     "output_type": "execute_result"
    }
   ],
   "source": [
    "mylist[0]"
   ]
  },
  {
   "cell_type": "code",
   "execution_count": 145,
   "id": "aca3cfd2-0710-4938-868a-cd2f92d8e559",
   "metadata": {},
   "outputs": [],
   "source": [
    "candidates = ['Application_451341004',\n",
    " 'Application_1405484331',\n",
    " 'Application_1343107752',\n",
    " 'Application_1034706502',\n",
    " 'Application_209668210',\n",
    " 'Application_1878767958',\n",
    " 'Application_1788651940',\n",
    " 'Application_1129416788',\n",
    " 'Application_1744092101',\n",
    " 'Application_592767974',\n",
    " 'Application_1647108674',\n",
    " 'Application_1919048321',\n",
    " 'Application_398311287',\n",
    " 'Application_2102558833',\n",
    " 'Application_254178417',\n",
    " 'Application_679723515']"
   ]
  },
  {
   "cell_type": "code",
   "execution_count": 146,
   "id": "f93cbe5a-4692-4afa-b759-a5060d5adc37",
   "metadata": {},
   "outputs": [],
   "source": [
    "week_gt =[20,24,29,49]"
   ]
  },
  {
   "cell_type": "code",
   "execution_count": 147,
   "id": "d92c8efb-1035-4f77-bfd7-0a344b67693c",
   "metadata": {
    "scrolled": true
   },
   "outputs": [
    {
     "name": "stdout",
     "output_type": "stream",
     "text": [
      "with case Application_209668210, week 24, results check is True\n",
      "with case Application_1878767958, week 20, results check is True\n",
      "with case Application_1744092101, week 29, results check is True\n",
      "with case Application_2102558833, week 49, results check is True\n"
     ]
    }
   ],
   "source": [
    "for c in candidates:\n",
    "    for w in week_gt:\n",
    "        if check(c,w) == True:\n",
    "            print(f\"with case {c}, week {w}, results check is {check(c, w)}\")"
   ]
  },
  {
   "cell_type": "code",
   "execution_count": null,
   "id": "0f34a553-7efa-4c35-8a3a-24a36d803e5f",
   "metadata": {},
   "outputs": [],
   "source": []
  }
 ],
 "metadata": {
  "kernelspec": {
   "display_name": "Python 3 (ipykernel)",
   "language": "python",
   "name": "python3"
  },
  "language_info": {
   "codemirror_mode": {
    "name": "ipython",
    "version": 3
   },
   "file_extension": ".py",
   "mimetype": "text/x-python",
   "name": "python",
   "nbconvert_exporter": "python",
   "pygments_lexer": "ipython3",
   "version": "3.9.23"
  }
 },
 "nbformat": 4,
 "nbformat_minor": 5
}
