{
 "cells": [
  {
   "cell_type": "code",
   "execution_count": 1,
   "id": "32f8dde6-3d34-418c-8fc9-d07b572ca71d",
   "metadata": {},
   "outputs": [],
   "source": [
    "import os \n",
    "os.chdir(\"../\")"
   ]
  },
  {
   "cell_type": "code",
   "execution_count": 2,
   "id": "5f4a888e-1138-4029-89f6-c3743e2f82d1",
   "metadata": {},
   "outputs": [
    {
     "name": "stderr",
     "output_type": "stream",
     "text": [
      "/home/vinh/anaconda3/envs/myenv/lib/python3.9/site-packages/tqdm/auto.py:21: TqdmWarning: IProgress not found. Please update jupyter and ipywidgets. See https://ipywidgets.readthedocs.io/en/stable/user_install.html\n",
      "  from .autonotebook import tqdm as notebook_tqdm\n"
     ]
    }
   ],
   "source": [
    "from src.utils.helpers import _getActivityNames, makeProgressBar, safe_update_bar"
   ]
  },
  {
   "cell_type": "code",
   "execution_count": 3,
   "id": "7bc16e6d-c5fd-4999-bf06-68e65a77df47",
   "metadata": {},
   "outputs": [],
   "source": [
    "from pm4py.objects.log.obj import EventLog\n",
    "from typing import Dict, List, Set\n",
    "import pm4py.util.xes_constants as xes\n",
    "from sklearn.cluster import DBSCAN\n",
    "import numpy as np\n",
    "from numpy.typing import NDArray"
   ]
  },
  {
   "cell_type": "code",
   "execution_count": 4,
   "id": "2dba3735-9959-4847-bbc8-3f5e088b6cb7",
   "metadata": {},
   "outputs": [
    {
     "name": "stderr",
     "output_type": "stream",
     "text": [
      "parsing log, completed traces :: 100%|████| 6000/6000 [00:03<00:00, 1780.03it/s]\n"
     ]
    }
   ],
   "source": [
    "from pm4py import read_xes\n",
    "log = read_xes('data/bose_log.xes')"
   ]
  },
  {
   "cell_type": "code",
   "execution_count": 9,
   "id": "215f7e34-6381-4d72-85b9-0a0f5b87c094",
   "metadata": {},
   "outputs": [],
   "source": [
    "def calcRelationMatrix(log:EventLog, activityName_key:str=xes.DEFAULT_NAME_KEY, progress=None)->np.ndarray:\n",
    "    \"\"\"Calculate the Relation Matrix defined by Zheng et al. Contains for each Case, and each Eventually- and Directly-Follows relation a 1 if it holds in the case, and 0 otherwise.\n",
    "\n",
    "    Args:\n",
    "        log (EventLog): The event log.\n",
    "        activityName_key (str, optional): The key for the activity value in the event log. Defaults to xes.DEFAULT_NAME_KEY.\n",
    "        progress (Any, optional): A progress bar to update at every completed case. Defaults to None.\n",
    "\n",
    "    Returns:\n",
    "        np.ndarray: The calculated Relation Matrix. Contains for each Case, and each Eventually- and Directly-Follows relation a 1 if it holds in the case, and 0 otherwise. Dimensions: 2(num_activities^2) x len(log)\n",
    "    \"\"\"    \n",
    "\n",
    "    activities = _getActivityNames(log, activityName_key=activityName_key)\n",
    "    num_activities = len(activities)\n",
    "\n",
    "    # Each column corresponds to a trace\n",
    "    # Each Row corresponds to a Relation\n",
    "    print(activities)\n",
    "    drelmatrix = np.zeros( # Directly follows relations\n",
    "        ((num_activities**2), len(log))\n",
    "    ) # Initialize to 0, so we can just look at the 1's\n",
    "    wrelmatrix = np.zeros( # Weak Relations\n",
    "        ((num_activities**2), len(log))\n",
    "    ) # Initialize to 0, so we can just look at the 1's\n",
    "    for idx,trace in enumerate(log):\n",
    "        # idx is the column\n",
    "        # Set the cell to 1 where there is a directly (or weak) follows relation between the activities\n",
    "        seen = set() # Set of indices of the activities we have already seen in the trace. Used to update weak relations\n",
    "        for i in range(len(trace)-1): # Exclude last element as it has no follower\n",
    "            act1_index = activities.index(trace[i][activityName_key])\n",
    "            act2_index = activities.index(trace[i+1][activityName_key])\n",
    "            # print(trace[i][activityName_key])\n",
    "            # print(trace[i+1][activityName_key])\n",
    "            # print(\"this is activity 1 index\", act1_index)\n",
    "            # print(\"this is activity 2 index\", act2_index)\n",
    "            # Update Directly follows Cell for this relation\n",
    "            drelmatrix[act1_index*num_activities + act2_index, idx] = 1\n",
    "            wrelmatrix[act1_index*num_activities + act2_index, idx] = 1\n",
    "            for act in seen:\n",
    "                wrelmatrix[act*num_activities + act1_index,idx]\n",
    "            seen.add(act1_index)\n",
    "        safe_update_bar(progress)\n",
    "    return np.append(drelmatrix,wrelmatrix,axis=0)"
   ]
  },
  {
   "cell_type": "code",
   "execution_count": 6,
   "id": "d2588ef4-ab4b-49e8-ac06-479516f98bc2",
   "metadata": {},
   "outputs": [
    {
     "data": {
      "text/plain": [
       "'                trace1   trace2   trace3   trace4   trace5  \\nact1-> act1          \\nact1-> act2\\n....\\n\\n\\n\\n\\n'"
      ]
     },
     "execution_count": 6,
     "metadata": {},
     "output_type": "execute_result"
    }
   ],
   "source": [
    "# => it's like \n",
    "'''                trace1   trace2   trace3   trace4   trace5  \n",
    "act1-> act1          \n",
    "act1-> act2\n",
    "....\n",
    "\n",
    "\n",
    "\n",
    "\n",
    "'''"
   ]
  },
  {
   "cell_type": "code",
   "execution_count": 7,
   "id": "94540684-c8c5-4d03-a1b1-46fbecd32040",
   "metadata": {},
   "outputs": [],
   "source": [
    "def candidateCPDetection(relMatrixRow:NDArray, mrid:int)->Set[int]:\n",
    "    \"\"\"Extract candidate change points from a row of the Relation Matrix. These are points where the relation of this row held (or did not hold) for `mrid` consecutive traces, and then the relation changed.\n",
    "\n",
    "    Args:\n",
    "        relMatrixRow (NDArray): A row of the Relation Matrix.\n",
    "        mrid (int): The Minimum Relation Invariance Distance. How long a relationship must remain stable before its change is concidered a change point candidate.\n",
    "        a row represent a relation, each column is a trace, that mean it is a array of value 0,0,0,0,1,0,0,1,0,0 ....\n",
    "    Returns:\n",
    "        Set[int]: A set of indices of the change point candidates.\n",
    "    \"\"\"    \n",
    "\n",
    "    P = set()\n",
    "    begin = 0\n",
    "    count = 0\n",
    "    n = len(relMatrixRow)\n",
    "    print(\"the length is\", n)\n",
    "    for j in range(n): # n+1 so n is included\n",
    "        if begin == 0 or relMatrixRow[j] != relMatrixRow[begin]: # begin = 0 mean th first step, relaM[j] != relaM[begin] mean the the realation in the step j diff with the relation in begin step \n",
    "            if count >= mrid: # at first step there is never true. if mrid > 0. \n",
    "                P.update([begin, j])\n",
    "            begin = j # update begin to next step begin until relaM[j] != relaM[begin]\n",
    "            count = 0 # count reset\n",
    "        count += 1 # if relaM[j] == relaM[begin]\n",
    "    if count >= mrid:\n",
    "        P.add(begin)\n",
    "    P.difference_update([1])\n",
    "    return P"
   ]
  },
  {
   "cell_type": "code",
   "execution_count": 17,
   "id": "d500ccbd-56a2-4129-b5f1-77d81cca80fc",
   "metadata": {},
   "outputs": [],
   "source": [
    "def candidateChangepointsCombinataion(S:Set[int], mrid:int, eps:float, n:int)->List[float]:\n",
    "    \"\"\"Combine candidate change points by clustering them (Using DBScan), to find change point indices\n",
    "\n",
    "    Args:\n",
    "        S (Set[int]): The set of found candidate change points (From all Matrix rows).\n",
    "        mrid (int): The Minimum Relation Invariance Distance. How long a relationship must remain stable before its change is concidered a change point candidate.\n",
    "        eps (float): The epsilon parameter used for the DBSCAN clustering algorithm.\n",
    "        n (int): The index of the last trace in the log. Zheng et al. consider this, and the first case, change point candidates as well.\n",
    "\n",
    "    Raises:\n",
    "        Exception: No neighbor change points were found for a detected change point. This should not occur due to the fact that `1` and `n` are also considered change points.\n",
    "\n",
    "    Returns:\n",
    "        List[float]: A list of change point indices. These are floats due to the use of a clustering algorithm.\n",
    "    \"\"\"    \n",
    "\n",
    "\n",
    "    minPts = 1\n",
    "    result = [1,n]\n",
    "\n",
    "    if S == set(): # If there are no candidates\n",
    "        # Otherwise DBSCAN will yield an error\n",
    "        return result\n",
    "\n",
    "    s_as_list = list(S) # So i can be certain about the order\n",
    "    clustering = DBSCAN(eps=eps, min_samples=minPts).fit(np.array(s_as_list).reshape(-1, 1))\n",
    "\n",
    "    map_to_cluster = []\n",
    "    for i in range(len(s_as_list)):\n",
    "        map_to_cluster.append(\n",
    "            (s_as_list[i], clustering.labels_[i])\n",
    "        )\n",
    "    cluster_names = set(clustering.labels_) # All the different clusters\n",
    "    clusters = [\n",
    "        (cluster_name, [\n",
    "            pt for pt,clust in map_to_cluster if clust == cluster_name\n",
    "        ]) for cluster_name in cluster_names\n",
    "    ] # \"Maps\" each cluster name to the list of elements in it\n",
    "    # Remove empty clusters (because apparently i have to do that??)\n",
    "    clusters = [(x,y) for x,y in clusters if y != []]\n",
    "\n",
    "    # Sort it\n",
    "    clusters.sort(key=lambda x: len(x[1]), reverse=True)# Sort w.r.t. the size of the cluster, descending\n",
    "    for clust_name, clust_members in clusters:\n",
    "        c = np.average(clust_members)\n",
    "        leftIndex = None\n",
    "        rightIndex = None\n",
    "        for i in range(len(result)-1):\n",
    "            if result[i] < c and c < result[i+1]:\n",
    "                leftIndex = i\n",
    "                rightIndex = i+1\n",
    "                break;\n",
    "        if rightIndex is not None and leftIndex is not None:\n",
    "            if c-leftIndex >= mrid and rightIndex-c<= mrid:\n",
    "                result.insert(rightIndex,c)\n",
    "        else:\n",
    "            # This should not happen\n",
    "            raise Exception(\"Couldn't find a place in results list for changepoint. This should not happen, contact the developer\")\n",
    "    return result\n"
   ]
  },
  {
   "cell_type": "code",
   "execution_count": 10,
   "id": "cff6dec2-0118-430b-bd17-b34f1818bf1b",
   "metadata": {},
   "outputs": [
    {
     "name": "stdout",
     "output_type": "stream",
     "text": [
      "['Archive', 'Contact Hospital', 'Create Questionnaire', 'High Insurance Check', 'High Medical History', 'Low Insurance Check', 'Low Medical History', 'Prepare Notification Content', 'Receive Questionnaire Response', 'Register', 'Send Notification by Phone', 'Send Notification by Post', 'Send Notification by e-mail', 'Send Questionnaire', 'Skip Questionnaire']\n"
     ]
    }
   ],
   "source": [
    "out = calcRelationMatrix(log)"
   ]
  },
  {
   "cell_type": "code",
   "execution_count": 33,
   "id": "20e28f57-e9de-48cd-95ab-46c28dd23861",
   "metadata": {},
   "outputs": [],
   "source": [
    "P = set()\n",
    "for row in out:\n",
    "    P.update(candidateCPDetection(row, mrid=600))\n"
   ]
  },
  {
   "cell_type": "code",
   "execution_count": 29,
   "id": "72fe36c9-ea6d-442a-ae29-2f7bd1b78de4",
   "metadata": {
    "scrolled": true
   },
   "outputs": [
    {
     "data": {
      "text/plain": [
       "{51,\n",
       " 136,\n",
       " 223,\n",
       " 224,\n",
       " 288,\n",
       " 289,\n",
       " 323,\n",
       " 324,\n",
       " 339,\n",
       " 486,\n",
       " 575,\n",
       " 579,\n",
       " 580,\n",
       " 651,\n",
       " 757,\n",
       " 803,\n",
       " 856,\n",
       " 857,\n",
       " 869,\n",
       " 978,\n",
       " 982,\n",
       " 983,\n",
       " 995,\n",
       " 999,\n",
       " 1089,\n",
       " 1137,\n",
       " 1175,\n",
       " 1187,\n",
       " 1188,\n",
       " 1190,\n",
       " 1192,\n",
       " 1200,\n",
       " 1225,\n",
       " 1226,\n",
       " 1239,\n",
       " 1254,\n",
       " 1287,\n",
       " 1288,\n",
       " 1289,\n",
       " 1290,\n",
       " 1380,\n",
       " 1381,\n",
       " 1392,\n",
       " 1410,\n",
       " 1424,\n",
       " 1425,\n",
       " 1439,\n",
       " 1440,\n",
       " 1569,\n",
       " 1594,\n",
       " 1602,\n",
       " 1657,\n",
       " 1700,\n",
       " 1745,\n",
       " 1746,\n",
       " 1748,\n",
       " 1773,\n",
       " 1798,\n",
       " 1799,\n",
       " 1861,\n",
       " 1875,\n",
       " 1882,\n",
       " 1891,\n",
       " 1895,\n",
       " 1956,\n",
       " 1990,\n",
       " 1991,\n",
       " 2051,\n",
       " 2093,\n",
       " 2117,\n",
       " 2134,\n",
       " 2152,\n",
       " 2216,\n",
       " 2217,\n",
       " 2231,\n",
       " 2345,\n",
       " 2353,\n",
       " 2393,\n",
       " 2414,\n",
       " 2418,\n",
       " 2540,\n",
       " 2558,\n",
       " 2639,\n",
       " 2698,\n",
       " 2725,\n",
       " 2752,\n",
       " 2817,\n",
       " 2868,\n",
       " 2934,\n",
       " 2967,\n",
       " 2979,\n",
       " 2999,\n",
       " 3065,\n",
       " 3066,\n",
       " 3083,\n",
       " 3084,\n",
       " 3090,\n",
       " 3119,\n",
       " 3136,\n",
       " 3156,\n",
       " 3157,\n",
       " 3268,\n",
       " 3276,\n",
       " 3278,\n",
       " 3306,\n",
       " 3307,\n",
       " 3373,\n",
       " 3394,\n",
       " 3395,\n",
       " 3454,\n",
       " 3501,\n",
       " 3503,\n",
       " 3516,\n",
       " 3573,\n",
       " 3588,\n",
       " 3593,\n",
       " 3599,\n",
       " 3600,\n",
       " 3634,\n",
       " 3646,\n",
       " 3667,\n",
       " 3707,\n",
       " 3733,\n",
       " 3799,\n",
       " 3800,\n",
       " 3804,\n",
       " 3840,\n",
       " 3903,\n",
       " 3947,\n",
       " 3968,\n",
       " 4015,\n",
       " 4016,\n",
       " 4017,\n",
       " 4031,\n",
       " 4032,\n",
       " 4037,\n",
       " 4061,\n",
       " 4077,\n",
       " 4079,\n",
       " 4110,\n",
       " 4111,\n",
       " 4147,\n",
       " 4148,\n",
       " 4200,\n",
       " 4243,\n",
       " 4244,\n",
       " 4248,\n",
       " 4291,\n",
       " 4367,\n",
       " 4471,\n",
       " 4472,\n",
       " 4488,\n",
       " 4493,\n",
       " 4494,\n",
       " 4502,\n",
       " 4558,\n",
       " 4699,\n",
       " 4738,\n",
       " 4776,\n",
       " 4777,\n",
       " 4778,\n",
       " 4800,\n",
       " 4801,\n",
       " 4802,\n",
       " 4831,\n",
       " 4844,\n",
       " 4940,\n",
       " 4999,\n",
       " 5000,\n",
       " 5027,\n",
       " 5028,\n",
       " 5035,\n",
       " 5036,\n",
       " 5087,\n",
       " 5098,\n",
       " 5141,\n",
       " 5146,\n",
       " 5206,\n",
       " 5212,\n",
       " 5224,\n",
       " 5225,\n",
       " 5246,\n",
       " 5247,\n",
       " 5262,\n",
       " 5263,\n",
       " 5298,\n",
       " 5299,\n",
       " 5324,\n",
       " 5325,\n",
       " 5332,\n",
       " 5341,\n",
       " 5409,\n",
       " 5411,\n",
       " 5446,\n",
       " 5451,\n",
       " 5457,\n",
       " 5458,\n",
       " 5461,\n",
       " 5462,\n",
       " 5535,\n",
       " 5561,\n",
       " 5634,\n",
       " 5635,\n",
       " 5660,\n",
       " 5760,\n",
       " 5763,\n",
       " 5887,\n",
       " 5929,\n",
       " 5986}"
      ]
     },
     "execution_count": 29,
     "metadata": {},
     "output_type": "execute_result"
    }
   ],
   "source": [
    "P"
   ]
  },
  {
   "cell_type": "code",
   "execution_count": 34,
   "id": "c722f56e-f03a-4d08-9c8c-d333d509e036",
   "metadata": {},
   "outputs": [],
   "source": [
    "cp = candidateChangepointsCombinataion(P, mrid=600, eps=300, n=len(log))"
   ]
  },
  {
   "cell_type": "code",
   "execution_count": 35,
   "id": "0c339d1b-5caa-4d4c-95fb-8b20863217b6",
   "metadata": {},
   "outputs": [],
   "source": [
    "cp = [round(x) for x in cp]"
   ]
  },
  {
   "cell_type": "code",
   "execution_count": 36,
   "id": "cd7c602d-3467-44c3-bce5-59fe2f305dab",
   "metadata": {},
   "outputs": [
    {
     "data": {
      "text/plain": [
       "[1, 1278, 1971, 3731, 5199, 6000]"
      ]
     },
     "execution_count": 36,
     "metadata": {},
     "output_type": "execute_result"
    }
   ],
   "source": [
    "cp"
   ]
  },
  {
   "cell_type": "code",
   "execution_count": 38,
   "id": "72187b07-cef0-4a9f-ab2c-ededcb4414aa",
   "metadata": {},
   "outputs": [
    {
     "data": {
      "text/plain": [
       "{'attributes': {'concept:name': '1', 'variant': 'Variant 875', 'variant-index': 875, 'creator': 'Fluxicon Disco'}, 'events': [{'concept:name': 'Register', 'lifecycle:transition': 'complete', 'org:resource': 'PR3', 'time:timestamp': datetime.datetime(1970, 1, 1, 1, 6, tzinfo=datetime.timezone(datetime.timedelta(seconds=3600))), 'Activity': 'Register', 'Resource': 'PR3'}, '..', {'concept:name': 'Archive', 'lifecycle:transition': 'complete', 'org:resource': 'PR1', 'time:timestamp': datetime.datetime(1970, 1, 2, 7, 39, tzinfo=datetime.timezone(datetime.timedelta(seconds=3600))), 'Activity': 'Archive', 'Resource': 'PR1'}]}"
      ]
     },
     "execution_count": 38,
     "metadata": {},
     "output_type": "execute_result"
    }
   ],
   "source": [
    "log[0]"
   ]
  },
  {
   "cell_type": "code",
   "execution_count": 39,
   "id": "1d74fdb0-bbd6-48cb-9e1c-03c8452e1ea5",
   "metadata": {},
   "outputs": [],
   "source": [
    "def extractTraces(log: EventLog, activityName_key:str=xes.DEFAULT_NAME_KEY)-> np.ndarray:\n",
    "    out = np.empty(len(log), dtype=object)\n",
    "    for index, case in enumerate(log):\n",
    "        out[index] = tuple(evt[activityName_key] for evt in case)\n",
    "    return out"
   ]
  },
  {
   "cell_type": "code",
   "execution_count": 40,
   "id": "f82492c3-bc2a-42d3-b0ef-eeaa674d63cc",
   "metadata": {},
   "outputs": [
    {
     "data": {
      "text/plain": [
       "('Register',\n",
       " 'Low Insurance Check',\n",
       " 'Create Questionnaire',\n",
       " 'Low Medical History',\n",
       " 'Prepare Notification Content',\n",
       " 'Send Questionnaire',\n",
       " 'Send Notification by Post',\n",
       " 'Send Notification by e-mail',\n",
       " 'Receive Questionnaire Response',\n",
       " 'Archive')"
      ]
     },
     "execution_count": 40,
     "metadata": {},
     "output_type": "execute_result"
    }
   ],
   "source": [
    "traces = extractTraces(log)\n",
    "traces[0]"
   ]
  },
  {
   "cell_type": "code",
   "execution_count": 41,
   "id": "4f6065b3-e6fe-48f8-b56a-6cfbe2ff882e",
   "metadata": {},
   "outputs": [
    {
     "data": {
      "text/plain": [
       "6000"
      ]
     },
     "execution_count": 41,
     "metadata": {},
     "output_type": "execute_result"
    }
   ],
   "source": [
    "len(traces)"
   ]
  },
  {
   "cell_type": "code",
   "execution_count": 43,
   "id": "70473558-2f39-4196-a2f1-96d2d4cb653a",
   "metadata": {},
   "outputs": [
    {
     "name": "stdout",
     "output_type": "stream",
     "text": [
      "('Register', 'Low Insurance Check', 'Create Questionnaire', 'Low Medical History', 'Prepare Notification Content', 'Send Questionnaire', 'Send Notification by Post', 'Send Notification by e-mail', 'Receive Questionnaire Response', 'Archive')\n",
      "('Register', 'Low Insurance Check', 'Low Medical History', 'Prepare Notification Content', 'Create Questionnaire', 'Send Notification by e-mail', 'Send Questionnaire', 'Skip Questionnaire', 'Archive')\n",
      "('Register', 'Create Questionnaire', 'Low Medical History', 'Low Insurance Check', 'Prepare Notification Content', 'Send Questionnaire', 'Skip Questionnaire', 'Archive')\n",
      "('Register', 'Create Questionnaire', 'High Insurance Check', 'High Medical History', 'Contact Hospital', 'Prepare Notification Content', 'Send Notification by Post', 'Send Notification by Phone', 'Send Questionnaire', 'Skip Questionnaire', 'Archive')\n",
      "('Register', 'High Insurance Check', 'Contact Hospital', 'High Medical History', 'Create Questionnaire', 'Prepare Notification Content', 'Send Notification by e-mail', 'Send Questionnaire', 'Skip Questionnaire', 'Archive')\n"
     ]
    }
   ],
   "source": [
    "for i in range(5):\n",
    "    print(traces[i])"
   ]
  },
  {
   "cell_type": "code",
   "execution_count": null,
   "id": "b8b6933d-c8fe-48a0-aae3-7011cbe47be4",
   "metadata": {},
   "outputs": [],
   "source": []
  }
 ],
 "metadata": {
  "kernelspec": {
   "display_name": "Python 3 (ipykernel)",
   "language": "python",
   "name": "python3"
  },
  "language_info": {
   "codemirror_mode": {
    "name": "ipython",
    "version": 3
   },
   "file_extension": ".py",
   "mimetype": "text/x-python",
   "name": "python",
   "nbconvert_exporter": "python",
   "pygments_lexer": "ipython3",
   "version": "3.12.7"
  }
 },
 "nbformat": 4,
 "nbformat_minor": 5
}
