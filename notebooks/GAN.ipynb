{
 "cells": [
  {
   "cell_type": "code",
   "execution_count": 1,
   "id": "f7382e92-7ce1-4955-b2c8-15295f0632d4",
   "metadata": {},
   "outputs": [],
   "source": [
    "# preprocess the trace\n",
    "#todo extract trace features\n",
    "from pm4py import read_xes\n",
    "import numpy as np\n",
    "import math\n",
    "from typing import Dict, Iterable, Tuple, List\n",
    "from pm4py.objects.log.obj import EventLog\n",
    "import pm4py.util.xes_constants as xes\n",
    "import numpy as np"
   ]
  },
  {
   "cell_type": "code",
   "execution_count": 2,
   "id": "9ce59037-322a-4dc5-8dd5-ebdc3dd350ac",
   "metadata": {},
   "outputs": [],
   "source": [
    "import os \n",
    "os.chdir('../')"
   ]
  },
  {
   "cell_type": "code",
   "execution_count": 3,
   "id": "da28f4a9-e930-4ce9-8fd5-cb270619363e",
   "metadata": {},
   "outputs": [],
   "source": [
    "def extractTraces(log: EventLog, activityName_key:str=xes.DEFAULT_NAME_KEY)-> np.ndarray:\n",
    "    out = np.empty(len(log), dtype=object)\n",
    "    for index, case in enumerate(log):\n",
    "        out[index] = tuple(evt[activityName_key] for evt in case)\n",
    "    return out"
   ]
  },
  {
   "cell_type": "code",
   "execution_count": 4,
   "id": "c5243dd8-833b-4dc6-827c-1750727e8019",
   "metadata": {},
   "outputs": [],
   "source": [
    "def extractTraceswithTime(log: EventLog, activityName_key:str=xes.DEFAULT_NAME_KEY, timestamp_key: str = xes.DEFAULT_TIMESTAMP_KEY)-> np.ndarray:\n",
    "    traces_data = np.empty(len(log), dtype=object)\n",
    "    for i, case in enumerate(log):\n",
    "        # For each event in the case, create a tuple of (activity, timestamp)\n",
    "        # and store them in a list for the current trace.\n",
    "        trace = [\n",
    "            (event[activityName_key], event[timestamp_key]) \n",
    "            for event in case\n",
    "        ]\n",
    "        traces_data[i] = trace\n",
    "        \n",
    "    return traces_data"
   ]
  },
  {
   "cell_type": "code",
   "execution_count": 5,
   "id": "b7e6f6f0-49ea-42e5-b0f2-e746c47a12e1",
   "metadata": {},
   "outputs": [],
   "source": [
    "def calculate_time_since_last(traces_with_time: np.ndarray) -> np.ndarray:\n",
    "    \"\"\"\n",
    "    Calculates the time elapsed since the previous event for each event in a trace.\n",
    "\n",
    "    Args:\n",
    "        traces_with_time: A NumPy array where each element is a list of \n",
    "                          (activity, timestamp) tuples for a trace.\n",
    "\n",
    "    Returns:\n",
    "        A NumPy array where each element is a list of durations in seconds,\n",
    "        representing the time since the last event.\n",
    "    \"\"\"\n",
    "    all_transition_times = np.empty(len(traces_with_time), dtype=object)\n",
    "\n",
    "    for i, trace in enumerate(traces_with_time):\n",
    "        if not trace:\n",
    "            all_transition_times[i] = []\n",
    "            continue\n",
    "\n",
    "        transition_times = [0.0] \n",
    "        \n",
    "        for j in range(1, len(trace)):\n",
    "            # Get the timestamp of the current and previous event\n",
    "            previous_timestamp = trace[j-1][1]  # Index 1 is the timestamp\n",
    "            current_timestamp = trace[j][1]\n",
    "            \n",
    "            # Calculate the difference and convert to seconds\n",
    "            delta = current_timestamp - previous_timestamp\n",
    "            transition_times.append(delta.total_seconds())\n",
    "            \n",
    "        all_transition_times[i] = transition_times\n",
    "        \n",
    "    return all_transition_times\n"
   ]
  },
  {
   "cell_type": "code",
   "execution_count": 6,
   "id": "02dceae7-3af9-4e3c-8a76-3344ed0de924",
   "metadata": {},
   "outputs": [
    {
     "name": "stderr",
     "output_type": "stream",
     "text": [
      "/home/vinh/anaconda3/envs/myenv/lib/python3.9/site-packages/tqdm/auto.py:21: TqdmWarning: IProgress not found. Please update jupyter and ipywidgets. See https://ipywidgets.readthedocs.io/en/stable/user_install.html\n",
      "  from .autonotebook import tqdm as notebook_tqdm\n",
      "parsing log, completed traces :: 100%|████| 1000/1000 [00:00<00:00, 1786.57it/s]\n"
     ]
    }
   ],
   "source": [
    "log = read_xes('data/sudden_trace_noise0_1000_IOR.xes')"
   ]
  },
  {
   "cell_type": "code",
   "execution_count": 57,
   "id": "64c926b7-48f6-4085-a151-f79d82a8f367",
   "metadata": {},
   "outputs": [],
   "source": [
    "traces = extractTraces(log)\n",
    "traces_times = extractTraceswithTime(log)\n",
    "transition_times = calculate_time_since_last(traces_times)"
   ]
  },
  {
   "cell_type": "code",
   "execution_count": 58,
   "id": "5e022be1-216f-4d9c-8b63-2360a3e86a17",
   "metadata": {},
   "outputs": [
    {
     "name": "stdout",
     "output_type": "stream",
     "text": [
      "('A', 'B', 'C', 'A', 'D', 'F', 'E', 'G', 'I', 'J', 'K', 'M', 'O')\n",
      "[0.0, 2010.352, 1422.1, 1781.231, 1779.077, 1953.313, 1627.008, 2083.933, 1779.16, 1402.309, 1983.764, 1771.816, 1994.466]\n"
     ]
    }
   ],
   "source": [
    "print(traces[0])\n",
    "print(transition_times[0])\n"
   ]
  },
  {
   "cell_type": "code",
   "execution_count": 59,
   "id": "58a64b8a-6137-4648-a504-0ae5cfa8b70a",
   "metadata": {},
   "outputs": [],
   "source": [
    "#==> how to extract the features that feed to GAN\n",
    "# first find the max length trace \n",
    "max_length = max([len(trace) for trace in traces])"
   ]
  },
  {
   "cell_type": "code",
   "execution_count": 60,
   "id": "a29cf7d6-612e-49d5-a862-4d5e5167fbab",
   "metadata": {},
   "outputs": [],
   "source": [
    "# encoded sequence \n",
    "unique_activities = sorted(list(set(activity for trace in traces for activity in trace)))\n",
    "activity_to_int = {activity: i + 1 for i, activity in enumerate(unique_activities)}\n",
    "int_to_activity = {i + 1: activity for i, activity in enumerate(unique_activities)}\n",
    "integer_encoded_traces = []\n",
    "for trace in traces:\n",
    "    encoded_trace = [activity_to_int[activity] for activity in trace]\n",
    "    integer_encoded_traces.append(encoded_trace)"
   ]
  },
  {
   "cell_type": "code",
   "execution_count": 79,
   "id": "7b62bc5d-f324-492b-b8b7-4c193f51ce71",
   "metadata": {},
   "outputs": [],
   "source": [
    "def safe_padding(traces, max_length):\n",
    "    padded_traces = []\n",
    "    for trace in traces:\n",
    "        new_trace = list(trace)\n",
    "        new_trace = new_trace[:max_length]\n",
    "        padding_needed = max_length - len(new_trace)\n",
    "        new_trace.extend([0.0] * padding_needed) # Using 0.0 for float context\n",
    "        padded_traces.append(new_trace)\n",
    "    return padded_traces"
   ]
  },
  {
   "cell_type": "code",
   "execution_count": 80,
   "id": "dcb31d7e-8b18-41bb-91d3-1801ed55fcc1",
   "metadata": {},
   "outputs": [],
   "source": [
    "paddedTraces=safe_padding(integer_encoded_traces, max_length)"
   ]
  },
  {
   "cell_type": "code",
   "execution_count": 81,
   "id": "7e51ef48-2113-4546-8a25-a10daeb194a1",
   "metadata": {},
   "outputs": [],
   "source": [
    "padded_time = safe_padding(transition_times, max_length)"
   ]
  },
  {
   "cell_type": "code",
   "execution_count": 82,
   "id": "76522e15-fa2b-408a-bf58-eb11449e5b29",
   "metadata": {},
   "outputs": [],
   "source": [
    "from sklearn.preprocessing import MinMaxScaler"
   ]
  },
  {
   "cell_type": "code",
   "execution_count": 83,
   "id": "6cd8c21b-845b-4793-8808-8ecbf48da084",
   "metadata": {},
   "outputs": [],
   "source": [
    "scaler = MinMaxScaler()"
   ]
  },
  {
   "cell_type": "code",
   "execution_count": 94,
   "id": "1b73c6c5-cc13-4a9a-b76c-be54dda29098",
   "metadata": {},
   "outputs": [],
   "source": [
    "padded_time = np.array(padded_time, dtype=np.float32)\n",
    "padded_trace = np.array(paddedTraces)"
   ]
  },
  {
   "cell_type": "code",
   "execution_count": 85,
   "id": "52fa3e50-3fae-4bea-9311-e20a8f718cf5",
   "metadata": {},
   "outputs": [],
   "source": [
    "normalized_time_features = scaler.fit_transform(padded_time)"
   ]
  },
  {
   "cell_type": "code",
   "execution_count": 90,
   "id": "b79067ff-0ebe-4d7a-9b76-6a9fbb9e00b6",
   "metadata": {},
   "outputs": [
    {
     "data": {
      "text/plain": [
       "(1000, 37)"
      ]
     },
     "execution_count": 90,
     "metadata": {},
     "output_type": "execute_result"
    }
   ],
   "source": [
    "normalized_time_features.shape"
   ]
  },
  {
   "cell_type": "code",
   "execution_count": 96,
   "id": "85cc6711-4c2c-42dd-8176-a9ceb68ff1b8",
   "metadata": {},
   "outputs": [
    {
     "data": {
      "text/plain": [
       "(1000, 37)"
      ]
     },
     "execution_count": 96,
     "metadata": {},
     "output_type": "execute_result"
    }
   ],
   "source": [
    "padded_trace.shape"
   ]
  },
  {
   "cell_type": "code",
   "execution_count": 102,
   "id": "596b9188-40eb-463f-af05-39f6a55a90ce",
   "metadata": {},
   "outputs": [],
   "source": [
    "vocab_size = len(unique_activities) + 1"
   ]
  },
  {
   "cell_type": "code",
   "execution_count": 103,
   "id": "d24afcdb-8a3e-4535-a20c-77a141b8f503",
   "metadata": {},
   "outputs": [
    {
     "name": "stdout",
     "output_type": "stream",
     "text": [
      "Shape after one-hot encoding: (1000, 37, 17)\n"
     ]
    }
   ],
   "source": [
    "control_flow_matrix = np.eye(vocab_size)[padded_trace]\n",
    "print(f\"Shape after one-hot encoding: {control_flow_matrix.shape}\")"
   ]
  },
  {
   "cell_type": "code",
   "execution_count": 104,
   "id": "0d65960c-8f66-446f-b8ad-a8f3ea2611d0",
   "metadata": {},
   "outputs": [
    {
     "name": "stdout",
     "output_type": "stream",
     "text": [
      "Shape of time features after reshape: (1000, 37, 1)\n"
     ]
    }
   ],
   "source": [
    "reshaped_time_features = np.reshape(padded_time, (1000, max_length, 1))\n",
    "print(f\"Shape of time features after reshape: {reshaped_time_features.shape}\")"
   ]
  },
  {
   "cell_type": "code",
   "execution_count": 105,
   "id": "ac11588a-7d15-4fbe-9a07-2d6597d841ee",
   "metadata": {},
   "outputs": [],
   "source": [
    "final_features = np.concatenate([control_flow_matrix, reshaped_time_features], axis=2)"
   ]
  },
  {
   "cell_type": "code",
   "execution_count": 106,
   "id": "02c98bde-2f12-49fe-b71f-6c7cd9a556c0",
   "metadata": {},
   "outputs": [
    {
     "data": {
      "text/plain": [
       "(1000, 37, 18)"
      ]
     },
     "execution_count": 106,
     "metadata": {},
     "output_type": "execute_result"
    }
   ],
   "source": [
    "final_features.shape"
   ]
  },
  {
   "cell_type": "code",
   "execution_count": null,
   "id": "7cdff770-0617-4998-b793-5667a0d3658c",
   "metadata": {},
   "outputs": [],
   "source": []
  }
 ],
 "metadata": {
  "kernelspec": {
   "display_name": "Python 3 (ipykernel)",
   "language": "python",
   "name": "python3"
  },
  "language_info": {
   "codemirror_mode": {
    "name": "ipython",
    "version": 3
   },
   "file_extension": ".py",
   "mimetype": "text/x-python",
   "name": "python",
   "nbconvert_exporter": "python",
   "pygments_lexer": "ipython3",
   "version": "3.9.23"
  }
 },
 "nbformat": 4,
 "nbformat_minor": 5
}
