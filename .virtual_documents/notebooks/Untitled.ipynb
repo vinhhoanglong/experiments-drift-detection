import pm4py
import os
os.chdir('../')
!pwd


from src.utils.helpers import _getActivityNames, _getActivityNames_LogList, makeProgressBar
import math 
import numpy as np
import scipy.stats as stats
from typing import List, Tuple 
from scipy.signal import find_peaks
from enum import Enum
from pm4py.objects.log.obj import EventLog
import pm4py.util.xes_constants as xes 
from tqdm import tqdm
from collections import defaultdict


log = pm4py.read_xes('data/sudden_trace_noise0_1000_IOR.xes')


def extract_caseid_activity(event_log: EventLog) -> List[Tuple[str, str]]:

    caseid_activity_pairs = []
    
    for trace in event_log:
        case_id = trace.attributes.get('concept:name', str(id(trace)))
        
        for event in trace:
            activity = event.get('concept:name', 'Unknown Activity')
            caseid_activity_pairs.append((case_id, activity))
    
    return caseid_activity_pairs


res = extract_caseid_activity(log)


res


def _group_events_by_case(events: List[Tuple[str, str]]) -> Dict[str, List[str]]:
    """
    Group incoming event stream into cases (traces).
    Args:
        events: List of (case_id, activity)
    Returns:
        dict: {case_id: [activity_1, ..., activity_n]}
    """
    grouped = defaultdict(list)
    for cid, act in events:
        grouped[cid].append(act)
    return grouped


res1 = _group_events_by_case(res)


import uuid
import numpy as np
from typing import List, Dict, Tuple
from collections import defaultdict
from tqdm import tqdm
from river import drift

# ============================================================
#  PrefixCDD - Effective Online Concept Drift Detection
# ============================================================

# ------------------------------------------------------------
# Prefix Tree Structures
# ------------------------------------------------------------

class PrefixNode:
    """A node in a prefix tree (stores activity label, frequency, and children)."""
    def __init__(self, activity: str, parent=None):
        self.id = uuid.uuid4()
        self.activity = activity
        self.parent = parent
        self.children: Dict[str, 'PrefixNode'] = {}
        self.freq = 0

    def add_child(self, activity: str):
        """Add or return an existing child node for the given activity."""
        if activity not in self.children:
            self.children[activity] = PrefixNode(activity, parent=self)
        return self.children[activity]


class PrefixTree:
    """A prefix tree that represents a set of traces (process executions)."""
    def __init__(self):
        self.root = PrefixNode("root")

    def add_trace(self, trace: List[str]):
        """Insert a sequence of activities into the tree."""
        node = self.root
        for act in trace:
            node = node.add_child(act)
            node.freq += 1

    def get_node_freqs(self) -> Dict[str, int]:
        """Return mapping (activity -> frequency) of all nodes in the tree."""
        result = defaultdict(int)
        def traverse(node: PrefixNode):
            for child in node.children.values():
                result[child.activity] += child.freq
                traverse(child)
        traverse(self.root)
        return dict(result)

# ------------------------------------------------------------
# Tree Distance Metric (δ)
# ------------------------------------------------------------

def compute_tree_distance(t1: PrefixTree, t2: PrefixTree) -> float:
    """
    Compute δ distance metric between two prefix trees.
    Combines structural and frequency differences.
    """
    f1 = t1.get_node_freqs()
    f2 = t2.get_node_freqs()
    all_acts = set(f1.keys()).union(f2.keys())
    diff = 0.0
    for act in all_acts:
        diff += (f1.get(act, 0) - f2.get(act, 0)) ** 2
    return np.sqrt(diff)


def build_tree_from_events(events: List[Tuple[str, str]]) -> PrefixTree:
    """Build a prefix tree from a batch of (case, activity) events."""
    tree = PrefixTree()
    cases = _group_events_by_case(events)
    for trace in cases.values():
        tree.add_trace(trace)
    return tree


class PrefixCDD:
    """
    PrefixCDD: Online concept drift detection over event streams using prefix trees.
    Implements the approach from Huete et al. (2023).
    """

    def __init__(self, num_trees: int = 12, events_per_tree: int = 500, show_progress: bool = True):
        """
        Args:
            num_trees: Number of prefix trees per window (W = k × j)
            events_per_tree: Number of events per tree
            show_progress: Display progress bar while running
        """
        self.num_trees = num_trees
        self.events_per_tree = events_per_tree
        self.trees: List[PrefixTree] = []
        self.current_events: List[Tuple[str, str]] = []
        self.adwin = drift.ADWIN(delta = 0.2)
        self.detected_drifts: List[int] = []
        self.show_progress = show_progress
        self.total_events = 0
        self.drift_info = []

    # --------------------------------------------------------
    # Main Interface
    # --------------------------------------------------------
    def add_event(self, case_id: str, activity: str):
        """Add one event to PrefixCDD and check for drift."""
        self.current_events.append((case_id, activity))
        self.total_events += 1  # <-- track total events
        
        if len(self.current_events) >= self.events_per_tree:
            new_tree = build_tree_from_events(self.current_events)
            self.trees.append(new_tree)
            self.current_events = []
    
            if len(self.trees) > self.num_trees:
                self.trees.pop(0)
    
            if len(self.trees) >= 2:
                distance = compute_tree_distance(self.trees[-2], self.trees[-1])
                # pass case_id, activity to the detector
                self._update_drift_detector(distance, case_id, activity)


    def _update_drift_detector(self, distance: float, case_id: str, activity: str):
        """Feed ADWIN with distance and detect drift."""
        self.adwin.update(distance)
        if self.adwin.drift_detected:
            drift_index = len(self.trees)
            self.detected_drifts.append(drift_index)
            drift_event_index = self.total_events
            self.drift_info.append({
                "tree": drift_index,
                "event_index": drift_event_index,
                "case_id": case_id,
                "activity": activity,
                "distance": distance
            })
            print(f"[Drift] Tree {drift_index}, Event {drift_event_index}, "
                  f"Case {case_id}, Activity '{activity}', δ={distance:.4f}")



    # --------------------------------------------------------
    # Offline Evaluation
    # --------------------------------------------------------
    def process_stream(self, event_stream: List[Tuple[str, str]]):
        """
        Process a full event stream (list of (case_id, activity)).
        This is a convenience function for batch testing.
        """
        if self.show_progress:
            iterator = tqdm(event_stream, desc="Processing event stream")
        else:
            iterator = event_stream

        for cid, act in iterator:
            self.add_event(cid, act)

        return self.detected_drifts



model = PrefixCDD(num_trees=20, events_per_tree=50)


event_stream = [(cid, act) for cid, acts in res1.items() for act in acts]
detected = model.process_stream(event_stream)


res1


for trace in log:
    for _ in trace:
        time_list.append(_['time:timestamp'])
        act_list.append(_['concept:name'])



len(time_list)


min(time_list)


max(time_list)


act = list(set(act_list))


def _getCausualFootprint(log:EventLog, activities:List[str]=None, activityName_key:str=xes.DEFAULT_NAME_KEY)-> np.chararray:
    if activities is None:
        activities = _getActivityNames(log, activityName_key=activityName_key)
    d = {(act1, act2): '%' for act1 in activities for act2 in activities}
    
    for trace in log:
        seen = set()
        A_touched = set()
        for event in trace:
            name = event[activityName_key]
            for s in seen:
                valnow = d[(s, name)]
                if valnow in ['%', 'A']:
                    d[(s,name)] = 'A'
                    A_touched.add((s,name))
                elif valnow == 'N':
                    d[(s, name)] = 'S'
            seen.add(name)
        for act1 in seen: 
            for act2 in activities:
                if d[(act1, act2)] == 'A' and (act1, act2) not in A_touched:
                    d[(act1, act2)] = 'S'
                elif d[(act1, act2)] == '%':
                    d[(act1, act2)] = 'N' 
    output = np.chararray((len(activities), len(activities)), unicode = True)
    for act1 in activities:
        i1 = activities.index(act1)
        for act2 in activities:
            i2 = activities.index(act2)
            output[i1][i2] = d[(act1, act2)] if d[(act1, act2)] != '%' else 'N'
    return output


drift_1 = log[1197:1202]


for i, trace in enumerate(drift_1):
    print(f"trace_{i}")
    for _ in trace:
        print(_['concept:name'])



